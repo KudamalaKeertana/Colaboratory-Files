{
  "nbformat": 4,
  "nbformat_minor": 0,
  "metadata": {
    "colab": {
      "private_outputs": true,
      "provenance": [],
      "collapsed_sections": [
        "n0xmcHwoq2RJ",
        "WsxNikbDKadm",
        "lgi4ItFDp8PB",
        "cUnOm_5Sq8GT",
        "QbYMguutw0U7",
        "2Rpa7e44q9hG",
        "pLaE28PNqGcB",
        "IMJIkyRlqGch",
        "bwlH7SZAqGc1",
        "dIQKjiAlqGdC",
        "bzBbQPjTqGd3",
        "xG35AZ1aqGd4",
        "RayCVmJgrdHz",
        "oR-3amnaqGeO",
        "jxlMr97iqGei",
        "1svSbe48rkAL",
        "MxQbphc5r2fF",
        "FtA5kul0qGew",
        "oFrtqs9vqGez",
        "T_fkmW6Lr5sc",
        "8jw68DIRqGfH"
      ]
    },
    "kernelspec": {
      "display_name": "Python 3",
      "language": "python",
      "name": "python3"
    }
  },
  "cells": [
    {
      "cell_type": "markdown",
      "metadata": {
        "id": "8YZcPYIAqGbC"
      },
      "source": [
        "# Kaggle Titanic\n",
        "## Logistic Regression with Python\n",
        "\n",
        "\n",
        "For this lecture we will be working with the [Titanic Data Set from Kaggle](https://www.kaggle.com/c/titanic). This is a very famous dataset.\n"
      ]
    },
    {
      "cell_type": "markdown",
      "metadata": {
        "id": "cUnOm_5Sq8GT"
      },
      "source": [
        "# Step - 1 : Frame The Problem"
      ]
    },
    {
      "cell_type": "markdown",
      "metadata": {
        "id": "0uinjbqww7AY"
      },
      "source": [
        "The sinking of the RMS Titanic is one of the most infamous shipwrecks in history.  On April 15, 1912, during her maiden voyage, the Titanic sank after colliding with an iceberg, killing 1502 out of 2224 passengers and crew. This sensational tragedy shocked the international community and led to better safety regulations for ships.\n",
        "\n",
        "One of the reasons that the shipwreck led to such loss of life was that there were not enough lifeboats for the passengers and crew. Although there was some element of luck involved in surviving the sinking, some groups of people were more likely to survive than others, such as women, children, and the upper-class.\n",
        "\n",
        "In this challenge, we ask you to complete the analysis of what sorts of people were likely to survive. In particular, we ask you to apply the tools of machine learning to predict which passengers survived the tragedy.\n",
        "\n"
      ]
    },
    {
      "cell_type": "markdown",
      "metadata": {
        "id": "QbYMguutw0U7"
      },
      "source": [
        "# Step - 2 : Obtain the Data"
      ]
    },
    {
      "cell_type": "markdown",
      "metadata": {
        "id": "2Rpa7e44q9hG"
      },
      "source": [
        "## Import Libraries"
      ]
    },
    {
      "cell_type": "code",
      "metadata": {
        "id": "DoloRktKqGbF"
      },
      "source": [
        "!pip install missingno"
      ],
      "execution_count": null,
      "outputs": []
    },
    {
      "cell_type": "code",
      "metadata": {
        "id": "R8l03wUUqGbO"
      },
      "source": [
        "import pandas as pd\n",
        "import numpy as np\n",
        "import matplotlib.pyplot as plt\n",
        "import seaborn as sns\n",
        "import missingno as ms\n",
        "%matplotlib inline"
      ],
      "execution_count": null,
      "outputs": []
    },
    {
      "cell_type": "code",
      "metadata": {
        "id": "8izv57KJfyHf"
      },
      "source": [
        "!ls -l"
      ],
      "execution_count": null,
      "outputs": []
    },
    {
      "cell_type": "markdown",
      "metadata": {
        "id": "DInPcxyBqGbT"
      },
      "source": [
        "Pandas provides two important data types with in built functions to be able to provide extensive capability to handle the data.The datatypes include Series and DataFrames."
      ]
    },
    {
      "cell_type": "markdown",
      "metadata": {
        "id": "MszA1lldqGbU"
      },
      "source": [
        "Pandas provides ways to read or get the data from various sources like read_csv,read_excel,read_html etc.The data is read and stored in the form of DataFrames."
      ]
    },
    {
      "cell_type": "markdown",
      "metadata": {
        "id": "MksYS8zQigKr"
      },
      "source": []
    },
    {
      "cell_type": "code",
      "metadata": {
        "id": "xhQhLNWGVf98"
      },
      "source": [
        "!wget https://www.dropbox.com/s/8grgwn4b6y25frw/titanic.csv"
      ],
      "execution_count": null,
      "outputs": []
    },
    {
      "cell_type": "code",
      "metadata": {
        "id": "gmWCjQ-FSWGB"
      },
      "source": [
        "!ls -l"
      ],
      "execution_count": null,
      "outputs": []
    },
    {
      "cell_type": "code",
      "metadata": {
        "id": "NGWNIC97qGbU"
      },
      "source": [
        "data = pd.read_csv('titanic.csv')"
      ],
      "execution_count": null,
      "outputs": []
    },
    {
      "cell_type": "code",
      "metadata": {
        "id": "VQArfkvzqGbX"
      },
      "source": [
        "data.head()"
      ],
      "execution_count": null,
      "outputs": []
    },
    {
      "cell_type": "code",
      "metadata": {
        "id": "7ZhH0YPKqGbd"
      },
      "source": [
        "#to get the last 5 entries of the data\n",
        "data.tail(3)"
      ],
      "execution_count": null,
      "outputs": []
    },
    {
      "cell_type": "code",
      "metadata": {
        "id": "oeXMHo68qGbg"
      },
      "source": [
        "type(data)"
      ],
      "execution_count": null,
      "outputs": []
    },
    {
      "cell_type": "code",
      "metadata": {
        "id": "z6AqB_2ZqGbj"
      },
      "source": [
        "data.shape"
      ],
      "execution_count": null,
      "outputs": []
    },
    {
      "cell_type": "code",
      "metadata": {
        "id": "8HTrlDouqGbm"
      },
      "source": [
        "data.info()"
      ],
      "execution_count": null,
      "outputs": []
    },
    {
      "cell_type": "code",
      "metadata": {
        "id": "cCD55xzuqGbt"
      },
      "source": [
        "a = data['Age']"
      ],
      "execution_count": null,
      "outputs": []
    },
    {
      "cell_type": "code",
      "metadata": {
        "id": "2jT6smHqqGbw"
      },
      "source": [
        "a"
      ],
      "execution_count": null,
      "outputs": []
    },
    {
      "cell_type": "code",
      "metadata": {
        "id": "x0ophbx9qGby"
      },
      "source": [
        "type(a)"
      ],
      "execution_count": null,
      "outputs": []
    },
    {
      "cell_type": "code",
      "metadata": {
        "id": "bxaercuoqGb3"
      },
      "source": [
        "type(data)"
      ],
      "execution_count": null,
      "outputs": []
    },
    {
      "cell_type": "code",
      "metadata": {
        "id": "cCRuD3VoqGb6"
      },
      "source": [
        "data.info()"
      ],
      "execution_count": null,
      "outputs": []
    },
    {
      "cell_type": "code",
      "metadata": {
        "id": "Gn1GrNdDqGb-"
      },
      "source": [
        "data.describe()"
      ],
      "execution_count": null,
      "outputs": []
    },
    {
      "cell_type": "markdown",
      "metadata": {
        "id": "pLaE28PNqGcB"
      },
      "source": [
        "## Accessing individual data in the data frame"
      ]
    },
    {
      "cell_type": "markdown",
      "metadata": {
        "id": "bbygvAR8qGcE"
      },
      "source": [
        "### Working with Columns"
      ]
    },
    {
      "cell_type": "markdown",
      "metadata": {
        "id": "AAksftHTqGcF"
      },
      "source": [
        "since each dataframe is a collection of series if we access a single column we get a series object"
      ]
    },
    {
      "cell_type": "code",
      "metadata": {
        "id": "s2ix-monqGcG"
      },
      "source": [
        "data['Cabin'].value_counts()"
      ],
      "execution_count": null,
      "outputs": []
    },
    {
      "cell_type": "code",
      "metadata": {
        "id": "Ag2wXKEEqGcP"
      },
      "source": [
        "y = data[['Cabin','Parch']].head()"
      ],
      "execution_count": null,
      "outputs": []
    },
    {
      "cell_type": "code",
      "metadata": {
        "id": "XxBmn3-CqGcU"
      },
      "source": [
        "type(y)"
      ],
      "execution_count": null,
      "outputs": []
    },
    {
      "cell_type": "code",
      "metadata": {
        "id": "imdoleNfqGcW"
      },
      "source": [
        "y.head()"
      ],
      "execution_count": null,
      "outputs": []
    },
    {
      "cell_type": "code",
      "metadata": {
        "id": "EQuJZbnnqGcd"
      },
      "source": [
        "data.info() #New_parch is added to the set of columns in the data frames"
      ],
      "execution_count": null,
      "outputs": []
    },
    {
      "cell_type": "markdown",
      "metadata": {
        "id": "dIQKjiAlqGdC"
      },
      "source": [
        "# Step - 3 : Analyse the Data"
      ]
    },
    {
      "cell_type": "code",
      "metadata": {
        "id": "xwDfDthBqGdD"
      },
      "source": [
        "ms.matrix(data)"
      ],
      "execution_count": null,
      "outputs": []
    },
    {
      "cell_type": "code",
      "metadata": {
        "id": "pMkSSvIRqGdF"
      },
      "source": [],
      "execution_count": null,
      "outputs": []
    },
    {
      "cell_type": "code",
      "metadata": {
        "id": "EH7C5W3pqGdI"
      },
      "source": [
        "data.info()"
      ],
      "execution_count": null,
      "outputs": []
    },
    {
      "cell_type": "markdown",
      "metadata": {
        "id": "I-9dyLg_qGdK"
      },
      "source": [
        "We can observe that there are missing values in 'Age', 'Cabin' and 'Embarked'. Let's continue."
      ]
    },
    {
      "cell_type": "code",
      "metadata": {
        "id": "KtxY0ruTqGdK"
      },
      "source": [
        "data.info()"
      ],
      "execution_count": null,
      "outputs": []
    },
    {
      "cell_type": "markdown",
      "metadata": {
        "id": "HGZZY5WgqGdO"
      },
      "source": [
        "Visualization of data with Seaborn"
      ]
    },
    {
      "cell_type": "code",
      "metadata": {
        "id": "tH5M6x_xqGdP"
      },
      "source": [
        "sns.jointplot(x='Fare',y='Age',data=data)"
      ],
      "execution_count": null,
      "outputs": []
    },
    {
      "cell_type": "code",
      "metadata": {
        "id": "VqU7t6mZqGdT"
      },
      "source": [
        "sns.distplot(data['Fare'])"
      ],
      "execution_count": null,
      "outputs": []
    },
    {
      "cell_type": "code",
      "metadata": {
        "id": "8cOJ9fXNqGdU"
      },
      "source": [
        "sns.heatmap(data.corr(),cmap='coolwarm')\n",
        "plt.title('data.corr()')"
      ],
      "execution_count": null,
      "outputs": []
    },
    {
      "cell_type": "code",
      "metadata": {
        "id": "sebwPKFXqGdc"
      },
      "source": [
        "sns.swarmplot\n",
        "sns.swarmplot(x='Pclass',y='Age',data=data,palette='Set2')"
      ],
      "execution_count": null,
      "outputs": []
    },
    {
      "cell_type": "code",
      "metadata": {
        "id": "FYnW2ls8qGde"
      },
      "source": [
        "sns.set_style('whitegrid')\n",
        "sns.countplot(x='Survived',data=data,palette='RdBu_r')"
      ],
      "execution_count": null,
      "outputs": []
    },
    {
      "cell_type": "code",
      "metadata": {
        "id": "5X0kVGCmqGdk"
      },
      "source": [
        "sns.set_style('whitegrid')\n",
        "sns.countplot(x='Survived',hue='Sex',data=data,palette='RdBu_r')"
      ],
      "execution_count": null,
      "outputs": []
    },
    {
      "cell_type": "code",
      "metadata": {
        "id": "QpxCS2k2qGdn"
      },
      "source": [
        "sns.set_style('whitegrid')\n",
        "sns.countplot(x='Survived',hue='Pclass',data = data,palette='rainbow')"
      ],
      "execution_count": null,
      "outputs": []
    },
    {
      "cell_type": "code",
      "metadata": {
        "id": "g1EPepxuqGdt"
      },
      "source": [
        "data['Age'].hist(bins = 30, color = 'darkred', alpha = 0.8)"
      ],
      "execution_count": null,
      "outputs": []
    },
    {
      "cell_type": "code",
      "metadata": {
        "id": "f8rUUA0OqGdx"
      },
      "source": [
        "sns.countplot(x = 'SibSp', data = data)"
      ],
      "execution_count": null,
      "outputs": []
    },
    {
      "cell_type": "code",
      "metadata": {
        "id": "0MvfzUUDqGdz"
      },
      "source": [
        "data['Fare'].hist(color = 'green', bins = 40, figsize = (8,3))"
      ],
      "execution_count": null,
      "outputs": []
    },
    {
      "cell_type": "markdown",
      "metadata": {
        "id": "bzBbQPjTqGd3"
      },
      "source": [
        "#### What do you observe from the above charts?"
      ]
    },
    {
      "cell_type": "markdown",
      "metadata": {
        "id": "xG35AZ1aqGd4"
      },
      "source": [
        "# Step - 4 : Feature Engineering"
      ]
    },
    {
      "cell_type": "markdown",
      "metadata": {
        "id": "RayCVmJgrdHz"
      },
      "source": [
        "## Feature Engineering\n",
        "\n",
        "We want to fill the missing values of the age in the dataset with the average age value for each of the classes. This is called data imputation."
      ]
    },
    {
      "cell_type": "code",
      "metadata": {
        "id": "3RxPvDC8fLeV"
      },
      "source": [
        "data.info()"
      ],
      "execution_count": null,
      "outputs": []
    },
    {
      "cell_type": "code",
      "metadata": {
        "id": "cA01gIyFqGd6"
      },
      "source": [
        "plt.figure(figsize=(12, 7))\n",
        "sns.boxplot(x='Pclass',y='Age',data=data,palette='winter')"
      ],
      "execution_count": null,
      "outputs": []
    },
    {
      "cell_type": "code",
      "metadata": {
        "id": "9qoh8udrfoD7"
      },
      "source": [
        "data['Cabin'].value_counts()"
      ],
      "execution_count": null,
      "outputs": []
    },
    {
      "cell_type": "markdown",
      "metadata": {
        "id": "M1yKKlqLqGd9"
      },
      "source": [
        "The average age for each of the classes are estimated to be as follows:\n",
        "  \n",
        "  * For **Class 1** - The median age is 37\n",
        "  * For **Class 2** - The median age is 29\n",
        "  * For **Class 3** - The median age is 24\n",
        "  \n",
        "Let's impute these values into the age column."
      ]
    },
    {
      "cell_type": "code",
      "metadata": {
        "id": "OtMLZAHWqGd9"
      },
      "source": [
        "def impute_age(cols):\n",
        "    Age = cols[0]\n",
        "    Pclass = cols[1]\n",
        "    \n",
        "    if pd.isnull(Age):\n",
        "        # Class-1\n",
        "        if Pclass == 1:\n",
        "            return 37\n",
        "        # Class-2 \n",
        "        elif Pclass == 2:\n",
        "            return 29\n",
        "        # Class-3\n",
        "        else:\n",
        "            return 24\n",
        "\n",
        "    else:\n",
        "        return Age"
      ],
      "execution_count": null,
      "outputs": []
    },
    {
      "cell_type": "markdown",
      "metadata": {
        "id": "N6OROGCHqGd_"
      },
      "source": [
        "Applying the function."
      ]
    },
    {
      "cell_type": "code",
      "metadata": {
        "id": "SzBf6AG2qGd_"
      },
      "source": [
        "data['Age'] = data[['Age','Pclass']].apply(impute_age,axis=1)"
      ],
      "execution_count": null,
      "outputs": []
    },
    {
      "cell_type": "markdown",
      "metadata": {
        "id": "aND3OdBbqGeB"
      },
      "source": [
        "Now let's visualize the missing values."
      ]
    },
    {
      "cell_type": "code",
      "metadata": {
        "id": "VAq4OM_zqGeC"
      },
      "source": [
        "ms.matrix(data)"
      ],
      "execution_count": null,
      "outputs": []
    },
    {
      "cell_type": "markdown",
      "metadata": {
        "id": "kk0SpICkqGeF"
      },
      "source": [
        "The Age column is imputed sucessfully.\n",
        "\n",
        "Let's drop the Cabin column and the row in the Embarked that is NaN."
      ]
    },
    {
      "cell_type": "code",
      "metadata": {
        "id": "NWgx7WhqqGeF"
      },
      "source": [
        "data.drop('Cabin', axis = 1,inplace=True)"
      ],
      "execution_count": null,
      "outputs": []
    },
    {
      "cell_type": "code",
      "metadata": {
        "id": "fNdWNAhJqGeH"
      },
      "source": [
        "data.head()"
      ],
      "execution_count": null,
      "outputs": []
    },
    {
      "cell_type": "code",
      "metadata": {
        "id": "dOdiaYbAqGeJ"
      },
      "source": [
        "data.dropna(inplace = True)"
      ],
      "execution_count": null,
      "outputs": []
    },
    {
      "cell_type": "code",
      "metadata": {
        "id": "82GLJhmrqGeK"
      },
      "source": [
        "ms.matrix(data)"
      ],
      "execution_count": null,
      "outputs": []
    },
    {
      "cell_type": "code",
      "metadata": {
        "id": "yleBqUeKqGeL"
      },
      "source": [
        "data.info()"
      ],
      "execution_count": null,
      "outputs": []
    },
    {
      "cell_type": "markdown",
      "metadata": {
        "id": "oR-3amnaqGeO"
      },
      "source": [
        "## Converting Categorical Features \n",
        "\n",
        "We'll need to convert categorical features to dummy variables using pandas! Otherwise our machine learning algorithm won't be able to directly take in those features as inputs."
      ]
    },
    {
      "cell_type": "code",
      "metadata": {
        "id": "X1iN1CpyqGeO"
      },
      "source": [
        "data['Embarked'].value_counts()"
      ],
      "execution_count": null,
      "outputs": []
    },
    {
      "cell_type": "code",
      "metadata": {
        "id": "2j5npHKGqGeS"
      },
      "source": [
        "sex = pd.get_dummies(data['Sex'],drop_first=1)\n",
        "embark = pd.get_dummies(data['Embarked'],drop_first=1)\n",
        "sex.head()\n"
      ],
      "execution_count": null,
      "outputs": []
    },
    {
      "cell_type": "code",
      "metadata": {
        "id": "hNZIx3jQqGeV"
      },
      "source": [
        "embark.head()"
      ],
      "execution_count": null,
      "outputs": []
    },
    {
      "cell_type": "code",
      "metadata": {
        "id": "_X0iFWXRqGeX"
      },
      "source": [
        "old_data = data.copy()\n",
        "data.drop(['Sex','Embarked','Name','Ticket'],axis=1,inplace=True)\n",
        "data.head()\n",
        "\n"
      ],
      "execution_count": null,
      "outputs": []
    },
    {
      "cell_type": "code",
      "metadata": {
        "id": "B4DSuUOpqGea"
      },
      "source": [
        "old_data.info()"
      ],
      "execution_count": null,
      "outputs": []
    },
    {
      "cell_type": "code",
      "metadata": {
        "id": "dBedobT4qGed"
      },
      "source": [
        "data = pd.concat([data,sex,embark],axis=1)"
      ],
      "execution_count": null,
      "outputs": []
    },
    {
      "cell_type": "code",
      "metadata": {
        "id": "g1kTmlgIqGed"
      },
      "source": [
        "data.head()"
      ],
      "execution_count": null,
      "outputs": []
    },
    {
      "cell_type": "markdown",
      "metadata": {
        "id": "ql2ebxjskKOb"
      },
      "source": []
    },
    {
      "cell_type": "code",
      "metadata": {
        "id": "i0Oryse3qGef"
      },
      "source": [
        "data.info()"
      ],
      "execution_count": null,
      "outputs": []
    },
    {
      "cell_type": "code",
      "metadata": {
        "id": "gqp49FYeqGeg"
      },
      "source": [
        "data.describe()"
      ],
      "execution_count": null,
      "outputs": []
    },
    {
      "cell_type": "markdown",
      "metadata": {
        "id": "jxlMr97iqGei"
      },
      "source": [
        "# Step - 5 : Model Selection"
      ]
    },
    {
      "cell_type": "markdown",
      "metadata": {
        "id": "1svSbe48rkAL"
      },
      "source": [
        "## Building a Logistic Regression model"
      ]
    },
    {
      "cell_type": "code",
      "metadata": {
        "id": "3bH6QYxaqGek"
      },
      "source": [
        "from sklearn.model_selection import train_test_split"
      ],
      "execution_count": null,
      "outputs": []
    },
    {
      "cell_type": "code",
      "metadata": {
        "id": "E22tvUEmqGel"
      },
      "source": [
        "X_train, X_test, y_train, y_test = train_test_split(data.drop('Survived',axis=1), \n",
        "                                                    data['Survived'], test_size=0.30, \n",
        "                                                    random_state=101)"
      ],
      "execution_count": null,
      "outputs": []
    },
    {
      "cell_type": "code",
      "metadata": {
        "id": "RD_IF3rdpIFw"
      },
      "source": [],
      "execution_count": null,
      "outputs": []
    },
    {
      "cell_type": "code",
      "metadata": {
        "id": "5jf2Zl2NqGeo"
      },
      "source": [
        "len(y_test)"
      ],
      "execution_count": null,
      "outputs": []
    },
    {
      "cell_type": "code",
      "metadata": {
        "id": "6oRS_E2OqGer"
      },
      "source": [
        "267/889"
      ],
      "execution_count": null,
      "outputs": []
    },
    {
      "cell_type": "code",
      "metadata": {
        "id": "KKzr-_boqGes"
      },
      "source": [
        "from sklearn.linear_model import LogisticRegression\n",
        "\n",
        "# Build the Model.\n",
        "logmodel = LogisticRegression()\n",
        "logmodel.fit(X_train,y_train)"
      ],
      "execution_count": null,
      "outputs": []
    },
    {
      "cell_type": "code",
      "metadata": {
        "id": "9YAKpVMVsmYx"
      },
      "source": [
        "logmodel.coef_"
      ],
      "execution_count": null,
      "outputs": []
    },
    {
      "cell_type": "code",
      "metadata": {
        "id": "S8bdMGNbqGet"
      },
      "source": [
        "predict =  logmodel.predict(X_test)\n",
        "predict[:5]"
      ],
      "execution_count": null,
      "outputs": []
    },
    {
      "cell_type": "code",
      "metadata": {
        "id": "J5CkHvS-qGev"
      },
      "source": [
        "y_test[:5]"
      ],
      "execution_count": null,
      "outputs": []
    },
    {
      "cell_type": "markdown",
      "metadata": {
        "id": "_YKIZMdEqGev"
      },
      "source": [
        "Let's move on to evaluate our model."
      ]
    },
    {
      "cell_type": "markdown",
      "metadata": {
        "id": "HHigMpujoAaX"
      },
      "source": [
        "# Step - 5 A : Multiple Models\n"
      ]
    },
    {
      "cell_type": "code",
      "metadata": {
        "id": "ZI9N8o0yoNio"
      },
      "source": [
        "from sklearn import svm, tree, linear_model\n",
        "\n",
        "Algols = [\n",
        "   \n",
        "            linear_model.LogisticRegression(),\n",
        "    \n",
        "            linear_model.LogisticRegressionCV(),\n",
        "\n",
        "            svm.LinearSVC(),\n",
        "\n",
        "            tree.DecisionTreeClassifier(),\n",
        "\n",
        "          ]\n"
      ],
      "execution_count": null,
      "outputs": []
    },
    {
      "cell_type": "code",
      "metadata": {
        "id": "V0t0iGUtoNez"
      },
      "source": [
        "from sklearn.metrics import confusion_matrix, precision_score, recall_score,accuracy_score, f1_score\n",
        "\n",
        "Algols_columns = []\n",
        "Algols_compare = pd.DataFrame(columns = Algols_columns)\n",
        "\n",
        "\n",
        "row_index = 0\n",
        "\n",
        "#Run once for each alogorithm and collect the summary\n",
        "for alg in Algols:\n",
        "    \n",
        "    predicted = alg.fit(X_train, y_train).predict(X_test)\n",
        "    Algo_name = alg.__class__.__name__\n",
        "    Algols_compare.loc[row_index,'Name'] = Algo_name\n",
        "    Algols_compare.loc[row_index, 'Accuracy'] = accuracy_score(y_test, predicted)\n",
        "    Algols_compare.loc[row_index, 'Precission'] = precision_score(y_test, predicted)\n",
        "    Algols_compare.loc[row_index, 'Recall'] = recall_score(y_test, predicted)\n",
        "    Algols_compare.loc[row_index, 'F1'] = f1_score(y_test, predicted)\n",
        "\n",
        "\n",
        "    row_index+=1\n",
        "    \n",
        "\n",
        "    \n",
        "#sort by Accuracy     \n",
        "Algols_compare.sort_values(by = ['Accuracy'], ascending = False, inplace = True)    \n",
        "\n",
        "#display output\n",
        "Algols_compare"
      ],
      "execution_count": null,
      "outputs": []
    },
    {
      "cell_type": "code",
      "metadata": {
        "id": "wohJT5_ooNcj"
      },
      "source": [
        "from sklearn import model_selection"
      ],
      "execution_count": null,
      "outputs": []
    },
    {
      "cell_type": "code",
      "metadata": {
        "id": "rLvPZT73oNak"
      },
      "source": [
        "grid_search_models = [\n",
        "                        [ linear_model.LogisticRegression(),     {\n",
        "                                                                    'C': [0.001, 0.01, 0.1, 1, 10, 100, 1000],\n",
        "                                                                 } ],\n",
        "\n",
        "                          [ linear_model.LogisticRegressionCV(), {\n",
        "                                                                    'solver' : ['newton-cg', 'lbfgs',],\n",
        "                                                                    'max_iter' : [10,30,50], \n",
        "\n",
        "                                                                 } ],\n",
        "\n",
        "                          [ svm.LinearSVC(),                     {\n",
        "                                                                    'C': [ 0.01, 0.1, 1, 10],\n",
        "                                                                    'max_iter' : [10,30,50],\n",
        "                              \n",
        "                                                                 } ],\n",
        "\n",
        "                          [ tree.DecisionTreeClassifier(),       {\n",
        "                                                                    'max_depth' :  [1,2,3,4],\n",
        "                                                                    'max_features' : ['sqrt', 'log2',None],\n",
        "                                                                 } ],\n",
        "                                  \n",
        "                    ]"
      ],
      "execution_count": null,
      "outputs": []
    },
    {
      "cell_type": "code",
      "metadata": {
        "id": "MIbqBAu0oNWZ"
      },
      "source": [
        "for model,params in grid_search_models:\n",
        "    tune_model = model_selection.GridSearchCV(model, param_grid=params, scoring = 'roc_auc',verbose=1)\n",
        "    tune_model.fit (X_train, y_train)\n",
        "    print(tune_model.best_params_)\n",
        "    print (model.__class__.__name__,tune_model.score(X_test, y_test))"
      ],
      "execution_count": null,
      "outputs": []
    },
    {
      "cell_type": "code",
      "metadata": {
        "id": "mkXQNNX-oNSy"
      },
      "source": [],
      "execution_count": null,
      "outputs": []
    },
    {
      "cell_type": "code",
      "metadata": {
        "id": "5QlZY2s34MEy"
      },
      "source": [],
      "execution_count": null,
      "outputs": []
    },
    {
      "cell_type": "markdown",
      "metadata": {
        "id": "y1FQpzDB4YQm"
      },
      "source": [
        "# Step - 5 B: Many More Models\n"
      ]
    },
    {
      "cell_type": "code",
      "metadata": {
        "id": "wNannrFP4YQp"
      },
      "source": [
        "from sklearn import svm,model_selection, tree, linear_model, neighbors \n",
        "from sklearn import naive_bayes, ensemble, discriminant_analysis, gaussian_process\n",
        "\n",
        "ManyMoreAlgols = [\n",
        "   \n",
        "                   #Ensemble Methods\n",
        "                    ensemble.AdaBoostClassifier(),\n",
        "                    ensemble.BaggingClassifier(),\n",
        "                    ensemble.ExtraTreesClassifier(),\n",
        "                    ensemble.GradientBoostingClassifier(),\n",
        "                    ensemble.RandomForestClassifier(),\n",
        "\n",
        "                    #Gaussian Processes\n",
        "                    gaussian_process.GaussianProcessClassifier(),\n",
        "\n",
        "                    #GLM\n",
        "                    linear_model.LogisticRegressionCV(),\n",
        "                    linear_model.PassiveAggressiveClassifier(),\n",
        "                    linear_model.RidgeClassifierCV(),\n",
        "                    linear_model.SGDClassifier(),\n",
        "                    linear_model.Perceptron(),\n",
        "\n",
        "                    #Navies Bayes\n",
        "                    naive_bayes.BernoulliNB(),\n",
        "                    naive_bayes.GaussianNB(),\n",
        "\n",
        "                    #Nearest Neighbor\n",
        "                    neighbors.KNeighborsClassifier(),\n",
        "\n",
        "                    #SVM\n",
        "                    svm.SVC(probability=True),\n",
        "                    svm.NuSVC(probability=True),\n",
        "                    svm.LinearSVC(),\n",
        "\n",
        "                    #Trees    \n",
        "                    tree.DecisionTreeClassifier(),\n",
        "                   #tree.ExtraTreeClassifier(),\n",
        "\n",
        "          ]\n"
      ],
      "execution_count": null,
      "outputs": []
    },
    {
      "cell_type": "code",
      "metadata": {
        "id": "sBjyohnV4YQs"
      },
      "source": [
        "from sklearn.metrics import confusion_matrix, precision_score, recall_score,accuracy_score, f1_score\n",
        "\n",
        "Algols_columns = []\n",
        "Algols_compare = pd.DataFrame(columns = Algols_columns)\n",
        "\n",
        "\n",
        "row_index = 0\n",
        "\n",
        "#Run once for each alogorithm and collect the summary\n",
        "for alg in ManyMoreAlgols:\n",
        "    \n",
        "    predicted = alg.fit(X_train, y_train).predict(X_test)\n",
        "    Algo_name = alg.__class__.__name__\n",
        "    Algols_compare.loc[row_index,'Name'] = Algo_name\n",
        "    Algols_compare.loc[row_index, 'Accuracy'] = accuracy_score(y_test, predicted)\n",
        "    Algols_compare.loc[row_index, 'Precission'] = precision_score(y_test, predicted)\n",
        "    Algols_compare.loc[row_index, 'Recall'] = recall_score(y_test, predicted)\n",
        "    Algols_compare.loc[row_index, 'F1'] = f1_score(y_test, predicted)\n",
        "\n",
        "\n",
        "    row_index+=1\n",
        "    \n",
        "\n",
        "    \n",
        "#sort by Accuracy     \n",
        "Algols_compare.sort_values(by = ['Precission'], ascending = False, inplace = True)    \n",
        "\n",
        "#display output\n",
        "Algols_compare"
      ],
      "execution_count": null,
      "outputs": []
    },
    {
      "cell_type": "code",
      "metadata": {
        "id": "fzOZOmma8ptE"
      },
      "source": [
        "Algols_compare.sort_values(by = ['F1'], ascending = False, inplace = True)    \n",
        "\n",
        "f = ()\n",
        "\n",
        "#display output\n",
        "Algols_compare"
      ],
      "execution_count": null,
      "outputs": []
    },
    {
      "cell_type": "code",
      "metadata": {
        "id": "1nNH2vpY8u88"
      },
      "source": [
        "Algols_compare.sort_values(by = ['Recall'], ascending = False, inplace = True)    \n",
        "\n",
        "#display output\n",
        "Algols_compare"
      ],
      "execution_count": null,
      "outputs": []
    },
    {
      "cell_type": "code",
      "metadata": {
        "id": "cQGt8Y484YQ7"
      },
      "source": [],
      "execution_count": null,
      "outputs": []
    },
    {
      "cell_type": "code",
      "metadata": {
        "id": "iIlzPSnG4YQ-"
      },
      "source": [],
      "execution_count": null,
      "outputs": []
    }
  ]
}