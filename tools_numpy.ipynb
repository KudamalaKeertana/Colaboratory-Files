{
  "cells": [
    {
      "cell_type": "markdown",
      "metadata": {
        "id": "SK0bhPvoutJA"
      },
      "source": [
        "# Tools - NumPy\n",
        "\n",
        "*NumPy is the fundamental library for scientific computing with Python. NumPy is centered around a powerful N-dimensional array object, and it also contains useful linear algebra, Fourier transform, and random number functions.*"
      ]
    },
    {
      "cell_type": "markdown",
      "metadata": {
        "id": "Dz1QAXTiutJE"
      },
      "source": [
        "# Creating Arrays"
      ]
    },
    {
      "cell_type": "markdown",
      "metadata": {
        "id": "v5RvrtGButJE"
      },
      "source": [
        "Now let's import `numpy`. Most people import it as `np`:"
      ]
    },
    {
      "cell_type": "code",
      "execution_count": null,
      "metadata": {
        "id": "sYsjbdBfutJF"
      },
      "outputs": [],
      "source": [
        "import numpy as np"
      ]
    },
    {
      "cell_type": "markdown",
      "metadata": {
        "id": "MlB1K1pwutJG"
      },
      "source": [
        "## `np.zeros`"
      ]
    },
    {
      "cell_type": "markdown",
      "metadata": {
        "id": "0TtlCN-hutJG"
      },
      "source": [
        "The `zeros` function creates an array containing any number of zeros:"
      ]
    },
    {
      "cell_type": "code",
      "execution_count": null,
      "metadata": {
        "id": "ZHUM4Vc0utJH",
        "outputId": "60b0feb3-1e41-455f-b1ed-2cbd0836a803"
      },
      "outputs": [
        {
          "data": {
            "text/plain": [
              "array([0., 0., 0., 0., 0.])"
            ]
          },
          "execution_count": 2,
          "metadata": {},
          "output_type": "execute_result"
        }
      ],
      "source": [
        "np.zeros(5)"
      ]
    },
    {
      "cell_type": "markdown",
      "metadata": {
        "id": "8VrPch4MutJI"
      },
      "source": [
        "It's just as easy to create a 2D array (i.e. a matrix) by providing a tuple with the desired number of rows and columns. For example, here's a 3x4 matrix:"
      ]
    },
    {
      "cell_type": "code",
      "execution_count": null,
      "metadata": {
        "id": "Lidmk8J1utJI",
        "outputId": "e5f628fd-1a50-4473-9d15-d64fde4cd8c1"
      },
      "outputs": [
        {
          "data": {
            "text/plain": [
              "array([[0., 0., 0., 0.],\n",
              "       [0., 0., 0., 0.],\n",
              "       [0., 0., 0., 0.]])"
            ]
          },
          "execution_count": 3,
          "metadata": {},
          "output_type": "execute_result"
        }
      ],
      "source": [
        "np.zeros((3,4))"
      ]
    },
    {
      "cell_type": "markdown",
      "metadata": {
        "id": "54c6rTjmutJI"
      },
      "source": [
        "## Some vocabulary\n",
        "\n",
        "* In NumPy, each dimension is called an **axis**.\n",
        "* The number of axes is called the **rank**.\n",
        "    * For example, the above 3x4 matrix is an array of rank 2 (it is 2-dimensional).\n",
        "    * The first axis has length 3, the second has length 4.\n",
        "* An array's list of axis lengths is called the **shape** of the array.\n",
        "    * For example, the above matrix's shape is `(3, 4)`.\n",
        "    * The rank is equal to the shape's length.\n",
        "* The **size** of an array is the total number of elements, which is the product of all axis lengths (e.g. 3*4=12)"
      ]
    },
    {
      "cell_type": "code",
      "execution_count": null,
      "metadata": {
        "id": "x8YNZSPEutJJ",
        "outputId": "2663005a-adde-42ea-d7a4-7683fe6fdaa2"
      },
      "outputs": [
        {
          "data": {
            "text/plain": [
              "array([[0., 0., 0., 0.],\n",
              "       [0., 0., 0., 0.],\n",
              "       [0., 0., 0., 0.]])"
            ]
          },
          "execution_count": 4,
          "metadata": {},
          "output_type": "execute_result"
        }
      ],
      "source": [
        "a = np.zeros((3,4))\n",
        "a"
      ]
    },
    {
      "cell_type": "code",
      "execution_count": null,
      "metadata": {
        "id": "wLKgB9AmutJJ",
        "outputId": "35ca8d14-58e7-45a1-ca58-4457392cdfed"
      },
      "outputs": [
        {
          "data": {
            "text/plain": [
              "(3, 4)"
            ]
          },
          "execution_count": 5,
          "metadata": {},
          "output_type": "execute_result"
        }
      ],
      "source": [
        "a.shape"
      ]
    },
    {
      "cell_type": "code",
      "execution_count": null,
      "metadata": {
        "id": "VxC2jQeLutJK",
        "outputId": "907f983d-0d8d-46e9-cf94-3dc6f9af74ae"
      },
      "outputs": [
        {
          "data": {
            "text/plain": [
              "2"
            ]
          },
          "execution_count": 6,
          "metadata": {},
          "output_type": "execute_result"
        }
      ],
      "source": [
        "a.ndim  # equal to len(a.shape)"
      ]
    },
    {
      "cell_type": "code",
      "execution_count": null,
      "metadata": {
        "id": "qwBX9HqNutJK",
        "outputId": "3dff9f0b-c36a-4886-bdc1-05b2339f5955"
      },
      "outputs": [
        {
          "data": {
            "text/plain": [
              "12"
            ]
          },
          "execution_count": 7,
          "metadata": {},
          "output_type": "execute_result"
        }
      ],
      "source": [
        "a.size"
      ]
    },
    {
      "cell_type": "markdown",
      "metadata": {
        "id": "3qVIYponutJK"
      },
      "source": [
        "## N-dimensional arrays\n",
        "You can also create an N-dimensional array of arbitrary rank. For example, here's a 3D array (rank=3), with shape `(2,3,4)`:"
      ]
    },
    {
      "cell_type": "code",
      "execution_count": null,
      "metadata": {
        "id": "rDiPu714utJL",
        "outputId": "4e25f0a8-0010-459a-81a7-331dc910fe8c"
      },
      "outputs": [
        {
          "data": {
            "text/plain": [
              "array([[[0., 0., 0., 0.],\n",
              "        [0., 0., 0., 0.],\n",
              "        [0., 0., 0., 0.]],\n",
              "\n",
              "       [[0., 0., 0., 0.],\n",
              "        [0., 0., 0., 0.],\n",
              "        [0., 0., 0., 0.]]])"
            ]
          },
          "execution_count": 8,
          "metadata": {},
          "output_type": "execute_result"
        }
      ],
      "source": [
        "np.zeros((2,3,4))"
      ]
    },
    {
      "cell_type": "markdown",
      "metadata": {
        "id": "3nnu9F4ButJL"
      },
      "source": [
        "## Array type\n",
        "NumPy arrays have the type `ndarray`s:"
      ]
    },
    {
      "cell_type": "code",
      "execution_count": null,
      "metadata": {
        "id": "Hlogwl0VutJL",
        "outputId": "379b75c0-ff74-4494-e4c6-5608b3b75916"
      },
      "outputs": [
        {
          "data": {
            "text/plain": [
              "numpy.ndarray"
            ]
          },
          "execution_count": 9,
          "metadata": {},
          "output_type": "execute_result"
        }
      ],
      "source": [
        "type(np.zeros((3,4)))"
      ]
    },
    {
      "cell_type": "markdown",
      "metadata": {
        "id": "pMSXcDPFutJL"
      },
      "source": [
        "## `np.ones`\n",
        "Many other NumPy functions create `ndarray`s.\n",
        "\n",
        "Here's a 3x4 matrix full of ones:"
      ]
    },
    {
      "cell_type": "code",
      "execution_count": null,
      "metadata": {
        "id": "cyU75X_-utJM",
        "outputId": "df4db789-a4f4-4fe1-fc66-13cc995a9639"
      },
      "outputs": [
        {
          "data": {
            "text/plain": [
              "array([[1., 1., 1., 1.],\n",
              "       [1., 1., 1., 1.],\n",
              "       [1., 1., 1., 1.]])"
            ]
          },
          "execution_count": 10,
          "metadata": {},
          "output_type": "execute_result"
        }
      ],
      "source": [
        "np.ones((3,4))"
      ]
    },
    {
      "cell_type": "markdown",
      "metadata": {
        "id": "fRUsvSZ4utJM"
      },
      "source": [
        "## `np.full`\n",
        "Creates an array of the given shape initialized with the given value. Here's a 3x4 matrix full of `π`."
      ]
    },
    {
      "cell_type": "code",
      "execution_count": null,
      "metadata": {
        "id": "4zAhfprXutJM",
        "outputId": "ddc98d76-9eda-404c-f399-d91b1b429ab2"
      },
      "outputs": [
        {
          "data": {
            "text/plain": [
              "array([[3.14159265, 3.14159265, 3.14159265, 3.14159265],\n",
              "       [3.14159265, 3.14159265, 3.14159265, 3.14159265],\n",
              "       [3.14159265, 3.14159265, 3.14159265, 3.14159265]])"
            ]
          },
          "execution_count": 11,
          "metadata": {},
          "output_type": "execute_result"
        }
      ],
      "source": [
        "np.full((3,4), np.pi)"
      ]
    },
    {
      "cell_type": "markdown",
      "metadata": {
        "id": "o7s_sjkRutJM"
      },
      "source": [
        "## `np.empty`\n",
        "An uninitialized 2x3 array (its content is not predictable, as it is whatever is in memory at that point):"
      ]
    },
    {
      "cell_type": "code",
      "execution_count": null,
      "metadata": {
        "scrolled": true,
        "id": "Y7sLf34JutJN",
        "outputId": "dcbd2c8d-5646-470d-a188-7589b9c7194a"
      },
      "outputs": [
        {
          "data": {
            "text/plain": [
              "array([[-1.28822975e-231, -3.11108662e+231,  1.48219694e-323],\n",
              "       [ 0.00000000e+000,  0.00000000e+000,  4.17201348e-309]])"
            ]
          },
          "execution_count": 12,
          "metadata": {},
          "output_type": "execute_result"
        }
      ],
      "source": [
        "np.empty((2,3))"
      ]
    },
    {
      "cell_type": "markdown",
      "metadata": {
        "id": "6u_wdVIputJN"
      },
      "source": [
        "## np.array\n",
        "Of course, you can initialize an `ndarray` using a regular python array. Just call the `array` function:"
      ]
    },
    {
      "cell_type": "code",
      "execution_count": null,
      "metadata": {
        "id": "AQOxZsPOutJN",
        "outputId": "f33ca8ec-2c04-454b-ace2-66c8e498a270"
      },
      "outputs": [
        {
          "data": {
            "text/plain": [
              "array([[ 1,  2,  3,  4],\n",
              "       [10, 20, 30, 40]])"
            ]
          },
          "execution_count": 13,
          "metadata": {},
          "output_type": "execute_result"
        }
      ],
      "source": [
        "np.array([[1,2,3,4], [10, 20, 30, 40]])"
      ]
    },
    {
      "cell_type": "markdown",
      "metadata": {
        "id": "xB-rarkOutJN"
      },
      "source": [
        "## `np.arange`\n",
        "You can create an `ndarray` using NumPy's `arange` function, which is similar to python's built-in `range` function:"
      ]
    },
    {
      "cell_type": "code",
      "execution_count": null,
      "metadata": {
        "scrolled": true,
        "id": "CDi73Sy1utJN",
        "outputId": "60201243-0204-4101-c890-d2938afe5983"
      },
      "outputs": [
        {
          "data": {
            "text/plain": [
              "array([1, 2, 3, 4])"
            ]
          },
          "execution_count": 14,
          "metadata": {},
          "output_type": "execute_result"
        }
      ],
      "source": [
        "np.arange(1, 5)"
      ]
    },
    {
      "cell_type": "markdown",
      "metadata": {
        "id": "23QzJIcKutJN"
      },
      "source": [
        "It also works with floats:"
      ]
    },
    {
      "cell_type": "code",
      "execution_count": null,
      "metadata": {
        "id": "hnmN3GUHutJO",
        "outputId": "17c767d2-27aa-46bd-befe-ee399f754628"
      },
      "outputs": [
        {
          "data": {
            "text/plain": [
              "array([1., 2., 3., 4.])"
            ]
          },
          "execution_count": 15,
          "metadata": {},
          "output_type": "execute_result"
        }
      ],
      "source": [
        "np.arange(1.0, 5.0)"
      ]
    },
    {
      "cell_type": "markdown",
      "metadata": {
        "id": "SOuYe9cJutJO"
      },
      "source": [
        "Of course, you can provide a step parameter:"
      ]
    },
    {
      "cell_type": "code",
      "execution_count": null,
      "metadata": {
        "id": "uuv5t6vJutJO",
        "outputId": "ffa00cc3-c681-4768-8ea1-5a7f309904ae"
      },
      "outputs": [
        {
          "data": {
            "text/plain": [
              "array([1. , 1.5, 2. , 2.5, 3. , 3.5, 4. , 4.5])"
            ]
          },
          "execution_count": 16,
          "metadata": {},
          "output_type": "execute_result"
        }
      ],
      "source": [
        "np.arange(1, 5, 0.5)"
      ]
    },
    {
      "cell_type": "markdown",
      "metadata": {
        "id": "lrWfaxoeutJO"
      },
      "source": [
        "However, when dealing with floats, the exact number of elements in the array is not always predictable. For example, consider this:"
      ]
    },
    {
      "cell_type": "code",
      "execution_count": null,
      "metadata": {
        "id": "s0rk4LqKutJO",
        "outputId": "80fbee45-7886-433e-e485-b6f765ca3ae2"
      },
      "outputs": [
        {
          "name": "stdout",
          "output_type": "stream",
          "text": [
            "[0.         0.33333333 0.66666667 1.         1.33333333 1.66666667]\n",
            "[0.         0.33333333 0.66666667 1.         1.33333333 1.66666667]\n",
            "[0.         0.33333333 0.66666667 1.         1.33333334]\n"
          ]
        }
      ],
      "source": [
        "print(np.arange(0, 5/3, 1/3)) # depending on floating point errors, the max value is 4/3 or 5/3.\n",
        "print(np.arange(0, 5/3, 0.333333333))\n",
        "print(np.arange(0, 5/3, 0.333333334))\n"
      ]
    },
    {
      "cell_type": "markdown",
      "metadata": {
        "id": "pnhI4hTdutJP"
      },
      "source": [
        "## `np.linspace`\n",
        "For this reason, it is generally preferable to use the `linspace` function instead of `arange` when working with floats. The `linspace` function returns an array containing a specific number of points evenly distributed between two values (note that the maximum value is *included*, contrary to `arange`):"
      ]
    },
    {
      "cell_type": "code",
      "execution_count": null,
      "metadata": {
        "id": "e73e2vvgutJP",
        "outputId": "f13f81fc-4833-49de-bb07-3dcb60d63202"
      },
      "outputs": [
        {
          "name": "stdout",
          "output_type": "stream",
          "text": [
            "[0.         0.33333333 0.66666667 1.         1.33333333 1.66666667]\n"
          ]
        }
      ],
      "source": [
        "print(np.linspace(0, 5/3, 6))"
      ]
    },
    {
      "cell_type": "markdown",
      "metadata": {
        "id": "62WmalkGutJP"
      },
      "source": [
        "## `np.rand` and `np.randn`\n",
        "A number of functions are available in NumPy's `random` module to create `ndarray`s initialized with random values.\n",
        "For example, here is a 3x4 matrix initialized with random floats between 0 and 1 (uniform distribution):"
      ]
    },
    {
      "cell_type": "code",
      "execution_count": null,
      "metadata": {
        "id": "d0aTMAevutJP",
        "outputId": "7fb540ae-3d5d-43e0-cb2b-b68a31a1b9b3"
      },
      "outputs": [
        {
          "data": {
            "text/plain": [
              "array([[0.31506811, 0.9962061 , 0.22576662, 0.90354811],\n",
              "       [0.75222452, 0.76662349, 0.1099069 , 0.98423873],\n",
              "       [0.83335318, 0.35623138, 0.67330209, 0.23273007]])"
            ]
          },
          "execution_count": 19,
          "metadata": {},
          "output_type": "execute_result"
        }
      ],
      "source": [
        "np.random.rand(3,4)"
      ]
    },
    {
      "cell_type": "markdown",
      "metadata": {
        "id": "ysS1fEg5utJP"
      },
      "source": [
        "Here's a 3x4 matrix containing random floats sampled from a univariate [normal distribution](https://en.wikipedia.org/wiki/Normal_distribution) (Gaussian distribution) of mean 0 and variance 1:"
      ]
    },
    {
      "cell_type": "code",
      "execution_count": null,
      "metadata": {
        "id": "We0bflqjutJP",
        "outputId": "200f082f-2f84-41df-d405-5d876bf6d686"
      },
      "outputs": [
        {
          "data": {
            "text/plain": [
              "array([[ 1.56110261e+00,  2.43164383e-01, -7.35871062e-01,\n",
              "         3.70101675e-04],\n",
              "       [ 1.86890564e-01,  6.30621790e-01,  7.30944692e-01,\n",
              "        -2.12995795e+00],\n",
              "       [-5.61847627e-01, -8.63385596e-01, -3.25545246e-01,\n",
              "         7.48875396e-01]])"
            ]
          },
          "execution_count": 20,
          "metadata": {},
          "output_type": "execute_result"
        }
      ],
      "source": [
        "np.random.randn(3,4)"
      ]
    },
    {
      "cell_type": "markdown",
      "metadata": {
        "id": "Siy3VZ6LutJQ"
      },
      "source": [
        "To give you a feel of what these distributions look like, let's use matplotlib (see the [matplotlib tutorial](tools_matplotlib.ipynb) for more details):"
      ]
    },
    {
      "cell_type": "code",
      "execution_count": null,
      "metadata": {
        "id": "mW_8chIzutJQ"
      },
      "outputs": [],
      "source": [
        "import matplotlib.pyplot as plt"
      ]
    },
    {
      "cell_type": "code",
      "execution_count": null,
      "metadata": {
        "id": "2c8VxQY5utJQ",
        "outputId": "286692ff-b337-43ca-976c-4903dd237f50"
      },
      "outputs": [
        {
          "data": {
            "image/png": "[encoded data removed]",
            "text/plain": [
              "<Figure size 432x288 with 1 Axes>"
            ]
          },
          "metadata": {
            "needs_background": "light"
          },
          "output_type": "display_data"
        }
      ],
      "source": [
        "plt.hist(np.random.rand(100000), density=True, bins=100, histtype=\"step\", color=\"blue\", label=\"rand\")\n",
        "plt.hist(np.random.randn(100000), density=True, bins=100, histtype=\"step\", color=\"red\", label=\"randn\")\n",
        "plt.axis([-2.5, 2.5, 0, 1.1])\n",
        "plt.legend(loc = \"upper left\")\n",
        "plt.title(\"Random distributions\")\n",
        "plt.xlabel(\"Value\")\n",
        "plt.ylabel(\"Density\")\n",
        "plt.show()"
      ]
    },
    {
      "cell_type": "markdown",
      "metadata": {
        "id": "8DV6E78futJQ"
      },
      "source": [
        "## np.fromfunction\n",
        "You can also initialize an `ndarray` using a function:"
      ]
    },
    {
      "cell_type": "code",
      "execution_count": null,
      "metadata": {
        "id": "-8qMPNzYutJQ",
        "outputId": "698a0a35-642c-4a6a-f16e-4684638aea1a"
      },
      "outputs": [
        {
          "data": {
            "text/plain": [
              "array([[[  0.,   1.,   2.,   3.,   4.,   5.,   6.,   7.,   8.,   9.],\n",
              "        [ 10.,  11.,  12.,  13.,  14.,  15.,  16.,  17.,  18.,  19.]],\n",
              "\n",
              "       [[100., 101., 102., 103., 104., 105., 106., 107., 108., 109.],\n",
              "        [110., 111., 112., 113., 114., 115., 116., 117., 118., 119.]],\n",
              "\n",
              "       [[200., 201., 202., 203., 204., 205., 206., 207., 208., 209.],\n",
              "        [210., 211., 212., 213., 214., 215., 216., 217., 218., 219.]]])"
            ]
          },
          "execution_count": 23,
          "metadata": {},
          "output_type": "execute_result"
        }
      ],
      "source": [
        "def my_function(z, y, x):\n",
        "    return x + 10 * y + 100 * z\n",
        "\n",
        "np.fromfunction(my_function, (3, 2, 10))"
      ]
    },
    {
      "cell_type": "markdown",
      "metadata": {
        "id": "RCqtC_idutJQ"
      },
      "source": [
        "NumPy first creates three `ndarray`s (one per dimension), each of shape `(3, 2, 10)`. Each array has values equal to the coordinate along a specific axis. For example, all elements in the `z` array are equal to their z-coordinate:\n",
        "\n",
        "    [[[ 0.  0.  0.  0.  0.  0.  0.  0.  0.  0.]\n",
        "      [ 0.  0.  0.  0.  0.  0.  0.  0.  0.  0.]]\n",
        "    \n",
        "     [[ 1.  1.  1.  1.  1.  1.  1.  1.  1.  1.]\n",
        "      [ 1.  1.  1.  1.  1.  1.  1.  1.  1.  1.]]\n",
        "    \n",
        "     [[ 2.  2.  2.  2.  2.  2.  2.  2.  2.  2.]\n",
        "      [ 2.  2.  2.  2.  2.  2.  2.  2.  2.  2.]]]\n",
        "\n",
        "So the terms `x`, `y` and `z` in the expression `x + 10 * y + 100 * z` above are in fact `ndarray`s (we will discuss arithmetic operations on arrays below).  The point is that the function `my_function` is only called *once*, instead of once per element. This makes initialization very efficient."
      ]
    },
    {
      "cell_type": "markdown",
      "metadata": {
        "id": "db3zlfKputJR"
      },
      "source": [
        "# Array data\n",
        "## `dtype`\n",
        "NumPy's `ndarray`s are also efficient in part because all their elements must have the same type (usually numbers).\n",
        "You can check what the data type is by looking at the `dtype` attribute:"
      ]
    },
    {
      "cell_type": "code",
      "execution_count": null,
      "metadata": {
        "scrolled": true,
        "id": "cOb2OJ4VutJR",
        "outputId": "b0778b2b-0ef2-42f5-8d0b-b463f3744ec8"
      },
      "outputs": [
        {
          "name": "stdout",
          "output_type": "stream",
          "text": [
            "int64 [1 2 3 4]\n"
          ]
        }
      ],
      "source": [
        "c = np.arange(1, 5)\n",
        "print(c.dtype, c)"
      ]
    },
    {
      "cell_type": "code",
      "execution_count": null,
      "metadata": {
        "id": "ZXLlutbvutJR",
        "outputId": "510f0898-249f-416b-c929-13dd9292202f"
      },
      "outputs": [
        {
          "name": "stdout",
          "output_type": "stream",
          "text": [
            "float64 [1. 2. 3. 4.]\n"
          ]
        }
      ],
      "source": [
        "c = np.arange(1.0, 5.0)\n",
        "print(c.dtype, c)"
      ]
    },
    {
      "cell_type": "markdown",
      "metadata": {
        "id": "I2pDtSCQutJR"
      },
      "source": [
        "Instead of letting NumPy guess what data type to use, you can set it explicitly when creating an array by setting the `dtype` parameter:"
      ]
    },
    {
      "cell_type": "code",
      "execution_count": null,
      "metadata": {
        "id": "9CYdgeiHutJR",
        "outputId": "ab4a8b8f-583d-48a7-ab3e-3754a4b2c71e"
      },
      "outputs": [
        {
          "name": "stdout",
          "output_type": "stream",
          "text": [
            "complex64 [1.+0.j 2.+0.j 3.+0.j 4.+0.j]\n"
          ]
        }
      ],
      "source": [
        "d = np.arange(1, 5, dtype=np.complex64)\n",
        "print(d.dtype, d)"
      ]
    },
    {
      "cell_type": "markdown",
      "metadata": {
        "id": "hsdBDCXButJS"
      },
      "source": [
        "Available data types include signed `int8`, `int16`, `int32`, `int64`, unsigned `uint8`|`16`|`32`|`64`, `float16`|`32`|`64` and `complex64`|`128`. Check out the documentation for the [basic types](https://numpy.org/doc/stable/user/basics.types.html) and [sized aliases](https://numpy.org/doc/stable/reference/arrays.scalars.html#sized-aliases) for the full list.\n",
        "\n",
        "## `itemsize`\n",
        "The `itemsize` attribute returns the size (in bytes) of each item:"
      ]
    },
    {
      "cell_type": "code",
      "execution_count": null,
      "metadata": {
        "id": "LUg8L_HhutJS",
        "outputId": "9e48ae0f-985e-4c0d-bb60-f269cd8e66e7"
      },
      "outputs": [
        {
          "data": {
            "text/plain": [
              "8"
            ]
          },
          "execution_count": 27,
          "metadata": {},
          "output_type": "execute_result"
        }
      ],
      "source": [
        "e = np.arange(1, 5, dtype=np.complex64)\n",
        "e.itemsize"
      ]
    },
    {
      "cell_type": "markdown",
      "metadata": {
        "id": "OvIF_LWJutJS"
      },
      "source": [
        "## `data` buffer\n",
        "An array's data is actually stored in memory as a flat (one dimensional) byte buffer. It is available *via* the `data` attribute (you will rarely need it, though)."
      ]
    },
    {
      "cell_type": "code",
      "execution_count": null,
      "metadata": {
        "id": "UgYfK_h5utJS",
        "outputId": "e759870d-60c5-46dd-bc04-3cc895fd9876"
      },
      "outputs": [
        {
          "data": {
            "text/plain": [
              "<memory at 0x7fb409690ad0>"
            ]
          },
          "execution_count": 28,
          "metadata": {},
          "output_type": "execute_result"
        }
      ],
      "source": [
        "f = np.array([[1,2],[1000, 2000]], dtype=np.int32)\n",
        "f.data"
      ]
    },
    {
      "cell_type": "markdown",
      "metadata": {
        "id": "EFCFW4GYutJS"
      },
      "source": [
        "In python 2, `f.data` is a buffer. In python 3, it is a memoryview."
      ]
    },
    {
      "cell_type": "code",
      "execution_count": null,
      "metadata": {
        "id": "wPttOKx9utJS",
        "outputId": "a3eea430-6abc-4b01-b93d-3d9aa9aee70a"
      },
      "outputs": [
        {
          "data": {
            "text/plain": [
              "b'\\x01\\x00\\x00\\x00\\x02\\x00\\x00\\x00\\xe8\\x03\\x00\\x00\\xd0\\x07\\x00\\x00'"
            ]
          },
          "execution_count": 29,
          "metadata": {},
          "output_type": "execute_result"
        }
      ],
      "source": [
        "if hasattr(f.data, \"tobytes\"):\n",
        "    data_bytes = f.data.tobytes() # python 3\n",
        "else:\n",
        "    data_bytes = memoryview(f.data).tobytes() # python 2\n",
        "\n",
        "data_bytes"
      ]
    },
    {
      "cell_type": "markdown",
      "metadata": {
        "id": "bjDLMdyDutJT"
      },
      "source": [
        "Several `ndarray`s can share the same data buffer, meaning that modifying one will also modify the others. We will see an example in a minute."
      ]
    },
    {
      "cell_type": "markdown",
      "metadata": {
        "id": "YJggTRhOutJT"
      },
      "source": [
        "# Reshaping an array\n",
        "## In place\n",
        "Changing the shape of an `ndarray` is as simple as setting its `shape` attribute. However, the array's size must remain the same."
      ]
    },
    {
      "cell_type": "code",
      "execution_count": null,
      "metadata": {
        "id": "4guTUOzVutJT",
        "outputId": "b6be9727-c1a3-48d9-abc9-1d9d232219f8"
      },
      "outputs": [
        {
          "name": "stdout",
          "output_type": "stream",
          "text": [
            "[ 0  1  2  3  4  5  6  7  8  9 10 11 12 13 14 15 16 17 18 19 20 21 22 23]\n",
            "Rank: 1\n"
          ]
        }
      ],
      "source": [
        "g = np.arange(24)\n",
        "print(g)\n",
        "print(\"Rank:\", g.ndim)"
      ]
    },
    {
      "cell_type": "code",
      "execution_count": null,
      "metadata": {
        "id": "FhAUhT6-utJT",
        "outputId": "246fb221-07f0-4a6e-a3b3-7fda2b9dba81"
      },
      "outputs": [
        {
          "name": "stdout",
          "output_type": "stream",
          "text": [
            "[[ 0  1  2  3]\n",
            " [ 4  5  6  7]\n",
            " [ 8  9 10 11]\n",
            " [12 13 14 15]\n",
            " [16 17 18 19]\n",
            " [20 21 22 23]]\n",
            "Rank: 2\n"
          ]
        }
      ],
      "source": [
        "g.shape = (6, 4)\n",
        "print(g)\n",
        "print(\"Rank:\", g.ndim)"
      ]
    },
    {
      "cell_type": "code",
      "execution_count": null,
      "metadata": {
        "scrolled": true,
        "id": "ovlMS08rutJT",
        "outputId": "f69d3cce-72ee-44eb-e374-2cc89e736fa8"
      },
      "outputs": [
        {
          "name": "stdout",
          "output_type": "stream",
          "text": [
            "[[[ 0  1  2  3]\n",
            "  [ 4  5  6  7]\n",
            "  [ 8  9 10 11]]\n",
            "\n",
            " [[12 13 14 15]\n",
            "  [16 17 18 19]\n",
            "  [20 21 22 23]]]\n",
            "Rank: 3\n"
          ]
        }
      ],
      "source": [
        "g.shape = (2, 3, 4)\n",
        "print(g)\n",
        "print(\"Rank:\", g.ndim)"
      ]
    },
    {
      "cell_type": "markdown",
      "metadata": {
        "id": "psgBX1wTutJT"
      },
      "source": [
        "## `reshape`\n",
        "The `reshape` function returns a new `ndarray` object pointing at the *same* data. This means that modifying one array will also modify the other."
      ]
    },
    {
      "cell_type": "code",
      "execution_count": null,
      "metadata": {
        "scrolled": true,
        "id": "7fq2bPUGutJU",
        "outputId": "94967624-0bde-46ad-aef2-a9565ccd35d3"
      },
      "outputs": [
        {
          "name": "stdout",
          "output_type": "stream",
          "text": [
            "[[ 0  1  2  3  4  5]\n",
            " [ 6  7  8  9 10 11]\n",
            " [12 13 14 15 16 17]\n",
            " [18 19 20 21 22 23]]\n",
            "Rank: 2\n"
          ]
        }
      ],
      "source": [
        "g2 = g.reshape(4,6)\n",
        "print(g2)\n",
        "print(\"Rank:\", g2.ndim)"
      ]
    },
    {
      "cell_type": "markdown",
      "metadata": {
        "id": "-d6mjUBTutJU"
      },
      "source": [
        "Set item at row 1, col 2 to 999 (more about indexing below)."
      ]
    },
    {
      "cell_type": "code",
      "execution_count": null,
      "metadata": {
        "id": "sNPHG_aTutJU",
        "outputId": "eef5b247-0954-42fc-d6cd-83d1696c5518"
      },
      "outputs": [
        {
          "data": {
            "text/plain": [
              "array([[  0,   1,   2,   3,   4,   5],\n",
              "       [  6,   7, 999,   9,  10,  11],\n",
              "       [ 12,  13,  14,  15,  16,  17],\n",
              "       [ 18,  19,  20,  21,  22,  23]])"
            ]
          },
          "execution_count": 34,
          "metadata": {},
          "output_type": "execute_result"
        }
      ],
      "source": [
        "g2[1, 2] = 999\n",
        "g2"
      ]
    },
    {
      "cell_type": "markdown",
      "metadata": {
        "id": "Vm79CV-1utJU"
      },
      "source": [
        "The corresponding element in `g` has been modified."
      ]
    },
    {
      "cell_type": "code",
      "execution_count": null,
      "metadata": {
        "id": "dz12FtvGutJU",
        "outputId": "c359486f-b8c0-4724-e8e8-75fd305c5452"
      },
      "outputs": [
        {
          "data": {
            "text/plain": [
              "array([[[  0,   1,   2,   3],\n",
              "        [  4,   5,   6,   7],\n",
              "        [999,   9,  10,  11]],\n",
              "\n",
              "       [[ 12,  13,  14,  15],\n",
              "        [ 16,  17,  18,  19],\n",
              "        [ 20,  21,  22,  23]]])"
            ]
          },
          "execution_count": 35,
          "metadata": {},
          "output_type": "execute_result"
        }
      ],
      "source": [
        "g"
      ]
    },
    {
      "cell_type": "markdown",
      "metadata": {
        "id": "qmcvW3squtJU"
      },
      "source": [
        "## `ravel`\n",
        "Finally, the `ravel` function returns a new one-dimensional `ndarray` that also points to the same data:"
      ]
    },
    {
      "cell_type": "code",
      "execution_count": null,
      "metadata": {
        "id": "XaPap_ZZutJU",
        "outputId": "14605569-69a4-494f-99a7-bbe00d62c695"
      },
      "outputs": [
        {
          "data": {
            "text/plain": [
              "array([  0,   1,   2,   3,   4,   5,   6,   7, 999,   9,  10,  11,  12,\n",
              "        13,  14,  15,  16,  17,  18,  19,  20,  21,  22,  23])"
            ]
          },
          "execution_count": 36,
          "metadata": {},
          "output_type": "execute_result"
        }
      ],
      "source": [
        "g.ravel()"
      ]
    },
    {
      "cell_type": "markdown",
      "metadata": {
        "id": "MTRUlvXButJV"
      },
      "source": [
        "# Arithmetic operations\n",
        "All the usual arithmetic operators (`+`, `-`, `*`, `/`, `//`, `**`, etc.) can be used with `ndarray`s. They apply *elementwise*:"
      ]
    },
    {
      "cell_type": "code",
      "execution_count": null,
      "metadata": {
        "id": "rEhyqAMVutJV",
        "outputId": "e9cd3fb8-02b9-4c44-c2d7-968b64db76a2"
      },
      "outputs": [
        {
          "name": "stdout",
          "output_type": "stream",
          "text": [
            "a + b  = [19 27 35 43]\n",
            "a - b  = [ 9 19 29 39]\n",
            "a * b  = [70 92 96 82]\n",
            "a / b  = [ 2.8         5.75       10.66666667 20.5       ]\n",
            "a // b  = [ 2  5 10 20]\n",
            "a % b  = [4 3 2 1]\n",
            "a ** b = [537824 279841  32768   1681]\n"
          ]
        }
      ],
      "source": [
        "a = np.array([14, 23, 32, 41])\n",
        "b = np.array([5,  4,  3,  2])\n",
        "print(\"a + b  =\", a + b)\n",
        "print(\"a - b  =\", a - b)\n",
        "print(\"a * b  =\", a * b)\n",
        "print(\"a / b  =\", a / b)\n",
        "print(\"a // b  =\", a // b)\n",
        "print(\"a % b  =\", a % b)\n",
        "print(\"a ** b =\", a ** b)"
      ]
    },
    {
      "cell_type": "markdown",
      "metadata": {
        "id": "hLsT9raTutJV"
      },
      "source": [
        "Note that the multiplication is *not* a matrix multiplication. We will discuss matrix operations below.\n",
        "\n",
        "The arrays must have the same shape. If they do not, NumPy will apply the *broadcasting rules*."
      ]
    },
    {
      "cell_type": "markdown",
      "metadata": {
        "id": "EPCDxyXuutJV"
      },
      "source": [
        "# Broadcasting"
      ]
    },
    {
      "cell_type": "markdown",
      "metadata": {
        "id": "yt00S331utJV"
      },
      "source": [
        "In general, when NumPy expects arrays of the same shape but finds that this is not the case, it applies the so-called *broadcasting* rules:\n",
        "\n",
        "## First rule\n",
        "*If the arrays do not have the same rank, then a 1 will be prepended to the smaller ranking arrays until their ranks match.*"
      ]
    },
    {
      "cell_type": "code",
      "execution_count": null,
      "metadata": {
        "id": "yTSJt1qwutJV",
        "outputId": "acbd047c-f518-44df-bd3c-1d69c41b4aea"
      },
      "outputs": [
        {
          "data": {
            "text/plain": [
              "array([[[0, 1, 2, 3, 4]]])"
            ]
          },
          "execution_count": 38,
          "metadata": {},
          "output_type": "execute_result"
        }
      ],
      "source": [
        "h = np.arange(5).reshape(1, 1, 5)\n",
        "h"
      ]
    },
    {
      "cell_type": "markdown",
      "metadata": {
        "id": "9etCU_j3utJV"
      },
      "source": [
        "Now let's try to add a 1D array of shape `(5,)` to this 3D array of shape `(1,1,5)`. Applying the first rule of broadcasting!"
      ]
    },
    {
      "cell_type": "code",
      "execution_count": null,
      "metadata": {
        "id": "UuZjQ_7LutJW",
        "outputId": "ef02554b-2273-4add-c8de-c65c508f1040"
      },
      "outputs": [
        {
          "data": {
            "text/plain": [
              "array([[[10, 21, 32, 43, 54]]])"
            ]
          },
          "execution_count": 39,
          "metadata": {},
          "output_type": "execute_result"
        }
      ],
      "source": [
        "h + [10, 20, 30, 40, 50]  # same as: h + [[[10, 20, 30, 40, 50]]]"
      ]
    },
    {
      "cell_type": "markdown",
      "metadata": {
        "id": "s1Bw6WifutJW"
      },
      "source": [
        "## Second rule\n",
        "*Arrays with a 1 along a particular dimension act as if they had the size of the array with the largest shape along that dimension. The value of the array element is repeated along that dimension.*"
      ]
    },
    {
      "cell_type": "code",
      "execution_count": null,
      "metadata": {
        "id": "TQpwSqjdutJW",
        "outputId": "8cb4a9dd-baef-4549-ee2f-6a7f025e077a"
      },
      "outputs": [
        {
          "data": {
            "text/plain": [
              "array([[0, 1, 2],\n",
              "       [3, 4, 5]])"
            ]
          },
          "execution_count": 40,
          "metadata": {},
          "output_type": "execute_result"
        }
      ],
      "source": [
        "k = np.arange(6).reshape(2, 3)\n",
        "k"
      ]
    },
    {
      "cell_type": "markdown",
      "metadata": {
        "id": "4MjUtjvZutJW"
      },
      "source": [
        "Let's try to add a 2D array of shape `(2,1)` to this 2D `ndarray` of shape `(2, 3)`. NumPy will apply the second rule of broadcasting:"
      ]
    },
    {
      "cell_type": "code",
      "execution_count": null,
      "metadata": {
        "id": "KW0e2wphutJW",
        "outputId": "26876234-e266-4434-b3d2-75484e8a7249"
      },
      "outputs": [
        {
          "data": {
            "text/plain": [
              "array([[100, 101, 102],\n",
              "       [203, 204, 205]])"
            ]
          },
          "execution_count": 41,
          "metadata": {},
          "output_type": "execute_result"
        }
      ],
      "source": [
        "k + [[100], [200]]  # same as: k + [[100, 100, 100], [200, 200, 200]]"
      ]
    },
    {
      "cell_type": "markdown",
      "metadata": {
        "id": "0fuj7T4zutJX"
      },
      "source": [
        "Combining rules 1 & 2, we can do this:"
      ]
    },
    {
      "cell_type": "code",
      "execution_count": null,
      "metadata": {
        "id": "iFvepM_PutJX",
        "outputId": "7356dabd-f44f-45e8-e671-6fe7f9e8dca9"
      },
      "outputs": [
        {
          "data": {
            "text/plain": [
              "array([[100, 201, 302],\n",
              "       [103, 204, 305]])"
            ]
          },
          "execution_count": 42,
          "metadata": {},
          "output_type": "execute_result"
        }
      ],
      "source": [
        "k + [100, 200, 300]  # after rule 1: [[100, 200, 300]], and after rule 2: [[100, 200, 300], [100, 200, 300]]"
      ]
    },
    {
      "cell_type": "markdown",
      "metadata": {
        "id": "5ddcEhyjutJX"
      },
      "source": [
        "And also, very simply:"
      ]
    },
    {
      "cell_type": "code",
      "execution_count": null,
      "metadata": {
        "id": "nLzBw8FautJX",
        "outputId": "64805971-cd6a-4865-b55e-1cd9ac2612e0"
      },
      "outputs": [
        {
          "data": {
            "text/plain": [
              "array([[1000, 1001, 1002],\n",
              "       [1003, 1004, 1005]])"
            ]
          },
          "execution_count": 43,
          "metadata": {},
          "output_type": "execute_result"
        }
      ],
      "source": [
        "k + 1000  # same as: k + [[1000, 1000, 1000], [1000, 1000, 1000]]"
      ]
    },
    {
      "cell_type": "markdown",
      "metadata": {
        "id": "jGhfVSOwutJX"
      },
      "source": [
        "## Third rule\n",
        "*After rules 1 & 2, the sizes of all arrays must match.*"
      ]
    },
    {
      "cell_type": "code",
      "execution_count": null,
      "metadata": {
        "id": "Y6uMBGb6utJX",
        "outputId": "39533d36-ccf7-4f1c-a9d9-0d60c9abc84d"
      },
      "outputs": [
        {
          "name": "stdout",
          "output_type": "stream",
          "text": [
            "operands could not be broadcast together with shapes (2,3) (2,) \n"
          ]
        }
      ],
      "source": [
        "try:\n",
        "    k + [33, 44]\n",
        "except ValueError as e:\n",
        "    print(e)"
      ]
    },
    {
      "cell_type": "markdown",
      "metadata": {
        "id": "baKvVIKputJX"
      },
      "source": [
        "Broadcasting rules are used in many NumPy operations, not just arithmetic operations, as we will see below.\n",
        "For more details about broadcasting, check out [the documentation](https://numpy.org/doc/stable/user/basics.broadcasting.html)."
      ]
    },
    {
      "cell_type": "markdown",
      "metadata": {
        "id": "vnyCeQDcutJX"
      },
      "source": [
        "## Upcasting\n",
        "When trying to combine arrays with different `dtype`s, NumPy will *upcast* to a type capable of handling all possible values (regardless of what the *actual* values are)."
      ]
    },
    {
      "cell_type": "code",
      "execution_count": null,
      "metadata": {
        "id": "wOeYZ6JQutJX",
        "outputId": "3c9df629-48c1-4436-d471-693fb83ba3e1"
      },
      "outputs": [
        {
          "name": "stdout",
          "output_type": "stream",
          "text": [
            "uint8 [0 1 2 3 4]\n"
          ]
        }
      ],
      "source": [
        "k1 = np.arange(0, 5, dtype=np.uint8)\n",
        "print(k1.dtype, k1)"
      ]
    },
    {
      "cell_type": "code",
      "execution_count": null,
      "metadata": {
        "id": "MXd9iuViutJY",
        "outputId": "ee3b8c2c-8807-4bd3-fbba-a6d5a15a998f"
      },
      "outputs": [
        {
          "name": "stdout",
          "output_type": "stream",
          "text": [
            "int16 [ 5  7  9 11 13]\n"
          ]
        }
      ],
      "source": [
        "k2 = k1 + np.array([5, 6, 7, 8, 9], dtype=np.int8)\n",
        "print(k2.dtype, k2)"
      ]
    },
    {
      "cell_type": "markdown",
      "metadata": {
        "id": "nwM_WBrQutJY"
      },
      "source": [
        "Note that `int16` is required to represent all *possible* `int8` and `uint8` values (from -128 to 255), even though in this case a `uint8` would have sufficed."
      ]
    },
    {
      "cell_type": "code",
      "execution_count": null,
      "metadata": {
        "id": "9RTdNK4JutJY",
        "outputId": "3135b9b1-f445-4a5f-dcb0-de650b42dfd6"
      },
      "outputs": [
        {
          "name": "stdout",
          "output_type": "stream",
          "text": [
            "float64 [1.5 2.5 3.5 4.5 5.5]\n"
          ]
        }
      ],
      "source": [
        "k3 = k1 + 1.5\n",
        "print(k3.dtype, k3)"
      ]
    },
    {
      "cell_type": "markdown",
      "metadata": {
        "id": "SqO7vFZ3utJY"
      },
      "source": [
        "# Conditional operators"
      ]
    },
    {
      "cell_type": "markdown",
      "metadata": {
        "id": "usHKss2CutJY"
      },
      "source": [
        "The conditional operators also apply elementwise:"
      ]
    },
    {
      "cell_type": "code",
      "execution_count": null,
      "metadata": {
        "id": "aHRh1IayutJY",
        "outputId": "80595376-e15e-4247-ff3d-b5495025ac31"
      },
      "outputs": [
        {
          "data": {
            "text/plain": [
              "array([False,  True,  True, False])"
            ]
          },
          "execution_count": 48,
          "metadata": {},
          "output_type": "execute_result"
        }
      ],
      "source": [
        "m = np.array([20, -5, 30, 40])\n",
        "m < [15, 16, 35, 36]"
      ]
    },
    {
      "cell_type": "markdown",
      "metadata": {
        "id": "QwRbcK_ButJY"
      },
      "source": [
        "And using broadcasting:"
      ]
    },
    {
      "cell_type": "code",
      "execution_count": null,
      "metadata": {
        "id": "T3GTHETSutJZ",
        "outputId": "8e8a72e5-4fd8-4bef-ffbc-d3d7a2f74379"
      },
      "outputs": [
        {
          "data": {
            "text/plain": [
              "array([ True,  True, False, False])"
            ]
          },
          "execution_count": 49,
          "metadata": {},
          "output_type": "execute_result"
        }
      ],
      "source": [
        "m < 25  # equivalent to m < [25, 25, 25, 25]"
      ]
    },
    {
      "cell_type": "markdown",
      "metadata": {
        "id": "SzAIDTRsutJZ"
      },
      "source": [
        "This is most useful in conjunction with boolean indexing (discussed below)."
      ]
    },
    {
      "cell_type": "code",
      "execution_count": null,
      "metadata": {
        "id": "WjJh5dDmutJZ",
        "outputId": "4ed11e0a-1ebc-48bc-d0c4-db9c270af06d"
      },
      "outputs": [
        {
          "data": {
            "text/plain": [
              "array([20, -5])"
            ]
          },
          "execution_count": 50,
          "metadata": {},
          "output_type": "execute_result"
        }
      ],
      "source": [
        "m[m < 25]"
      ]
    },
    {
      "cell_type": "markdown",
      "metadata": {
        "id": "9DMuOqlxutJZ"
      },
      "source": [
        "# Mathematical and statistical functions"
      ]
    },
    {
      "cell_type": "markdown",
      "metadata": {
        "id": "NBwuPV6wutJZ"
      },
      "source": [
        "Many mathematical and statistical functions are available for `ndarray`s.\n",
        "\n",
        "## `ndarray` methods\n",
        "Some functions are simply `ndarray` methods, for example:"
      ]
    },
    {
      "cell_type": "code",
      "execution_count": null,
      "metadata": {
        "id": "3NBdxAwrutJZ",
        "outputId": "7be10aab-03b7-4782-de8d-94fd1963da66"
      },
      "outputs": [
        {
          "name": "stdout",
          "output_type": "stream",
          "text": [
            "[[-2.5  3.1  7. ]\n",
            " [10.  11.  12. ]]\n",
            "mean = 6.766666666666667\n"
          ]
        }
      ],
      "source": [
        "a = np.array([[-2.5, 3.1, 7], [10, 11, 12]])\n",
        "print(a)\n",
        "print(\"mean =\", a.mean())"
      ]
    },
    {
      "cell_type": "markdown",
      "metadata": {
        "id": "uSMuFnOdutJa"
      },
      "source": [
        "Note that this computes the mean of all elements in the `ndarray`, regardless of its shape.\n",
        "\n",
        "Here are a few more useful `ndarray` methods:"
      ]
    },
    {
      "cell_type": "code",
      "execution_count": null,
      "metadata": {
        "id": "JWIZ6On3utJa",
        "outputId": "24b5fdb6-9414-4111-cd17-cc23fe166ed5"
      },
      "outputs": [
        {
          "name": "stdout",
          "output_type": "stream",
          "text": [
            "min = -2.5\n",
            "max = 12.0\n",
            "sum = 40.6\n",
            "prod = -71610.0\n",
            "std = 5.084835843520964\n",
            "var = 25.855555555555554\n"
          ]
        }
      ],
      "source": [
        "for func in (a.min, a.max, a.sum, a.prod, a.std, a.var):\n",
        "    print(func.__name__, \"=\", func())"
      ]
    },
    {
      "cell_type": "markdown",
      "metadata": {
        "id": "nh4PRVZVutJa"
      },
      "source": [
        "These functions accept an optional argument `axis` which lets you ask for the operation to be performed on elements along the given axis. For example:"
      ]
    },
    {
      "cell_type": "code",
      "execution_count": null,
      "metadata": {
        "id": "wkUJo785utJa",
        "outputId": "182c0077-06da-4c1a-fcc2-8ff0dc2f4aa1"
      },
      "outputs": [
        {
          "data": {
            "text/plain": [
              "array([[[ 0,  1,  2,  3],\n",
              "        [ 4,  5,  6,  7],\n",
              "        [ 8,  9, 10, 11]],\n",
              "\n",
              "       [[12, 13, 14, 15],\n",
              "        [16, 17, 18, 19],\n",
              "        [20, 21, 22, 23]]])"
            ]
          },
          "execution_count": 53,
          "metadata": {},
          "output_type": "execute_result"
        }
      ],
      "source": [
        "c=np.arange(24).reshape(2,3,4)\n",
        "c"
      ]
    },
    {
      "cell_type": "code",
      "execution_count": null,
      "metadata": {
        "id": "jhW69qG-utJa",
        "outputId": "8a078387-cb5e-4966-8493-09eba06e351c"
      },
      "outputs": [
        {
          "data": {
            "text/plain": [
              "array([[12, 14, 16, 18],\n",
              "       [20, 22, 24, 26],\n",
              "       [28, 30, 32, 34]])"
            ]
          },
          "execution_count": 54,
          "metadata": {},
          "output_type": "execute_result"
        }
      ],
      "source": [
        "c.sum(axis=0)  # sum across matrices"
      ]
    },
    {
      "cell_type": "code",
      "execution_count": null,
      "metadata": {
        "id": "DX5P64MWutJa",
        "outputId": "fa62c30c-5881-4cea-993a-748c6ceb1af4"
      },
      "outputs": [
        {
          "data": {
            "text/plain": [
              "array([[12, 15, 18, 21],\n",
              "       [48, 51, 54, 57]])"
            ]
          },
          "execution_count": 55,
          "metadata": {},
          "output_type": "execute_result"
        }
      ],
      "source": [
        "c.sum(axis=1)  # sum across rows"
      ]
    },
    {
      "cell_type": "markdown",
      "metadata": {
        "id": "8EeMSjtIutJa"
      },
      "source": [
        "You can also sum over multiple axes:"
      ]
    },
    {
      "cell_type": "code",
      "execution_count": null,
      "metadata": {
        "id": "0IrbG6ZHutJb",
        "outputId": "b53270b3-287f-4fee-ea59-c1696faf3aa3"
      },
      "outputs": [
        {
          "data": {
            "text/plain": [
              "array([ 60,  92, 124])"
            ]
          },
          "execution_count": 56,
          "metadata": {},
          "output_type": "execute_result"
        }
      ],
      "source": [
        "c.sum(axis=(0,2))  # sum across matrices and columns"
      ]
    },
    {
      "cell_type": "code",
      "execution_count": null,
      "metadata": {
        "id": "VuKL_tu9utJb",
        "outputId": "711dba55-d2fd-40e9-d517-b128302c16d5"
      },
      "outputs": [
        {
          "data": {
            "text/plain": [
              "(60, 92, 124)"
            ]
          },
          "execution_count": 57,
          "metadata": {},
          "output_type": "execute_result"
        }
      ],
      "source": [
        "0+1+2+3 + 12+13+14+15, 4+5+6+7 + 16+17+18+19, 8+9+10+11 + 20+21+22+23"
      ]
    },
    {
      "cell_type": "markdown",
      "metadata": {
        "id": "0u-9Uzt6utJb"
      },
      "source": [
        "## Universal functions\n",
        "NumPy also provides fast elementwise functions called *universal functions*, or **ufunc**. They are vectorized wrappers of simple functions. For example `square` returns a new `ndarray` which is a copy of the original `ndarray` except that each element is squared:"
      ]
    },
    {
      "cell_type": "code",
      "execution_count": null,
      "metadata": {
        "id": "7mAQlqY1utJb",
        "outputId": "ca69ecb1-8bdf-450a-c9c6-0e34a3834eca"
      },
      "outputs": [
        {
          "data": {
            "text/plain": [
              "array([[  6.25,   9.61,  49.  ],\n",
              "       [100.  , 121.  , 144.  ]])"
            ]
          },
          "execution_count": 58,
          "metadata": {},
          "output_type": "execute_result"
        }
      ],
      "source": [
        "a = np.array([[-2.5, 3.1, 7], [10, 11, 12]])\n",
        "np.square(a)"
      ]
    },
    {
      "cell_type": "markdown",
      "metadata": {
        "id": "5wj6oAkrutJb"
      },
      "source": [
        "Here are a few more useful unary ufuncs:"
      ]
    },
    {
      "cell_type": "code",
      "execution_count": null,
      "metadata": {
        "id": "yXnFB-w0utJc",
        "outputId": "6c870543-c776-476e-c505-16c0e00f59cb"
      },
      "outputs": [
        {
          "name": "stdout",
          "output_type": "stream",
          "text": [
            "Original ndarray\n",
            "[[-2.5  3.1  7. ]\n",
            " [10.  11.  12. ]]\n",
            "\n",
            " absolute\n",
            "[[ 2.5  3.1  7. ]\n",
            " [10.  11.  12. ]]\n",
            "\n",
            " sqrt\n",
            "[[       nan 1.76068169 2.64575131]\n",
            " [3.16227766 3.31662479 3.46410162]]\n",
            "\n",
            " exp\n",
            "[[8.20849986e-02 2.21979513e+01 1.09663316e+03]\n",
            " [2.20264658e+04 5.98741417e+04 1.62754791e+05]]\n",
            "\n",
            " log\n",
            "[[       nan 1.13140211 1.94591015]\n",
            " [2.30258509 2.39789527 2.48490665]]\n",
            "\n",
            " sign\n",
            "[[-1.  1.  1.]\n",
            " [ 1.  1.  1.]]\n",
            "\n",
            " ceil\n",
            "[[-2.  4.  7.]\n",
            " [10. 11. 12.]]\n",
            "\n",
            " modf\n",
            "(array([[-0.5,  0.1,  0. ],\n",
            "       [ 0. ,  0. ,  0. ]]), array([[-2.,  3.,  7.],\n",
            "       [10., 11., 12.]]))\n",
            "\n",
            " isnan\n",
            "[[False False False]\n",
            " [False False False]]\n",
            "\n",
            " cos\n",
            "[[-0.80114362 -0.99913515  0.75390225]\n",
            " [-0.83907153  0.0044257   0.84385396]]\n"
          ]
        },
        {
          "name": "stderr",
          "output_type": "stream",
          "text": [
            "/var/folders/wy/h39t6kb11pnbb0pzhksd_fqh0000gq/T/ipykernel_88441/2634842825.py:5: RuntimeWarning: invalid value encountered in sqrt\n",
            "  print(func(a))\n",
            "/var/folders/wy/h39t6kb11pnbb0pzhksd_fqh0000gq/T/ipykernel_88441/2634842825.py:5: RuntimeWarning: invalid value encountered in log\n",
            "  print(func(a))\n"
          ]
        }
      ],
      "source": [
        "print(\"Original ndarray\")\n",
        "print(a)\n",
        "for func in (np.abs, np.sqrt, np.exp, np.log, np.sign, np.ceil, np.modf, np.isnan, np.cos):\n",
        "    print(\"\\n\", func.__name__)\n",
        "    print(func(a))"
      ]
    },
    {
      "cell_type": "markdown",
      "metadata": {
        "id": "Q579nEsUutJc"
      },
      "source": [
        "The two warnings are due to the fact that `sqrt()` and `log()` are undefined for negative numbers, which is why there is a `np.nan` value in the first cell of the output of these two functions."
      ]
    },
    {
      "cell_type": "markdown",
      "metadata": {
        "id": "-Tbh0Bq9utJc"
      },
      "source": [
        "## Binary ufuncs\n",
        "There are also many binary ufuncs, that apply elementwise on two `ndarray`s.  Broadcasting rules are applied if the arrays do not have the same shape:"
      ]
    },
    {
      "cell_type": "code",
      "execution_count": null,
      "metadata": {
        "id": "dc-iJ58GutJc",
        "outputId": "fd6c9d2f-0996-4236-b300-01b60f1c66e3"
      },
      "outputs": [
        {
          "data": {
            "text/plain": [
              "array([ 3,  6,  2, 11])"
            ]
          },
          "execution_count": 60,
          "metadata": {},
          "output_type": "execute_result"
        }
      ],
      "source": [
        "a = np.array([1, -2, 3, 4])\n",
        "b = np.array([2, 8, -1, 7])\n",
        "np.add(a, b)  # equivalent to a + b"
      ]
    },
    {
      "cell_type": "code",
      "execution_count": null,
      "metadata": {
        "id": "F3BHRfVxutJc",
        "outputId": "8d9630ca-7278-48dc-a5a3-84fb01b14702"
      },
      "outputs": [
        {
          "data": {
            "text/plain": [
              "array([False, False,  True, False])"
            ]
          },
          "execution_count": 61,
          "metadata": {},
          "output_type": "execute_result"
        }
      ],
      "source": [
        "np.greater(a, b)  # equivalent to a > b"
      ]
    },
    {
      "cell_type": "code",
      "execution_count": null,
      "metadata": {
        "id": "EmPTCZgJutJc",
        "outputId": "0ff611f2-df6a-49ff-deae-dfa6a31724d7"
      },
      "outputs": [
        {
          "data": {
            "text/plain": [
              "array([2, 8, 3, 7])"
            ]
          },
          "execution_count": 62,
          "metadata": {},
          "output_type": "execute_result"
        }
      ],
      "source": [
        "np.maximum(a, b)"
      ]
    },
    {
      "cell_type": "code",
      "execution_count": null,
      "metadata": {
        "id": "5pCUfGTgutJd",
        "outputId": "f29d26a1-2286-4176-9cf3-fc90250ee2c6"
      },
      "outputs": [
        {
          "data": {
            "text/plain": [
              "array([ 1.,  2., -3.,  4.])"
            ]
          },
          "execution_count": 63,
          "metadata": {},
          "output_type": "execute_result"
        }
      ],
      "source": [
        "np.copysign(a, b)"
      ]
    },
    {
      "cell_type": "markdown",
      "metadata": {
        "id": "qhxfj1AAutJd"
      },
      "source": [
        "# Array indexing\n",
        "## One-dimensional arrays\n",
        "One-dimensional NumPy arrays can be accessed more or less like regular python arrays:"
      ]
    },
    {
      "cell_type": "code",
      "execution_count": null,
      "metadata": {
        "id": "PM8v0HdAutJd",
        "outputId": "8f40b4c6-d5d9-44ed-e916-cf33658efbe1"
      },
      "outputs": [
        {
          "data": {
            "text/plain": [
              "19"
            ]
          },
          "execution_count": 64,
          "metadata": {},
          "output_type": "execute_result"
        }
      ],
      "source": [
        "a = np.array([1, 5, 3, 19, 13, 7, 3])\n",
        "a[3]"
      ]
    },
    {
      "cell_type": "code",
      "execution_count": null,
      "metadata": {
        "id": "RSPf0-eputJd",
        "outputId": "723ea629-ceed-4d85-8e46-202d725b8533"
      },
      "outputs": [
        {
          "data": {
            "text/plain": [
              "array([ 3, 19, 13])"
            ]
          },
          "execution_count": 65,
          "metadata": {},
          "output_type": "execute_result"
        }
      ],
      "source": [
        "a[2:5]"
      ]
    },
    {
      "cell_type": "code",
      "execution_count": null,
      "metadata": {
        "id": "_nPPe4FnutJd",
        "outputId": "c1ba4ab7-608d-4e04-e62f-12f2f46e0e20"
      },
      "outputs": [
        {
          "data": {
            "text/plain": [
              "array([ 3, 19, 13,  7])"
            ]
          },
          "execution_count": 66,
          "metadata": {},
          "output_type": "execute_result"
        }
      ],
      "source": [
        "a[2:-1]"
      ]
    },
    {
      "cell_type": "code",
      "execution_count": null,
      "metadata": {
        "id": "964YnOLKutJd",
        "outputId": "488f6968-4bcf-4708-86a6-a5f493c577e9"
      },
      "outputs": [
        {
          "data": {
            "text/plain": [
              "array([1, 5])"
            ]
          },
          "execution_count": 67,
          "metadata": {},
          "output_type": "execute_result"
        }
      ],
      "source": [
        "a[:2]"
      ]
    },
    {
      "cell_type": "code",
      "execution_count": null,
      "metadata": {
        "id": "Q7Hw21giutJd",
        "outputId": "8be2adcc-cd8a-4401-898d-88c03a79b7dd"
      },
      "outputs": [
        {
          "data": {
            "text/plain": [
              "array([ 3, 13,  3])"
            ]
          },
          "execution_count": 68,
          "metadata": {},
          "output_type": "execute_result"
        }
      ],
      "source": [
        "a[2::2]"
      ]
    },
    {
      "cell_type": "code",
      "execution_count": null,
      "metadata": {
        "id": "33PeLXtyutJd",
        "outputId": "d5ab00ed-f322-4c73-e47f-86191385d431"
      },
      "outputs": [
        {
          "data": {
            "text/plain": [
              "array([ 3,  7, 13, 19,  3,  5,  1])"
            ]
          },
          "execution_count": 69,
          "metadata": {},
          "output_type": "execute_result"
        }
      ],
      "source": [
        "a[::-1]"
      ]
    },
    {
      "cell_type": "markdown",
      "metadata": {
        "id": "__T7qyhYutJe"
      },
      "source": [
        "Of course, you can modify elements:"
      ]
    },
    {
      "cell_type": "code",
      "execution_count": null,
      "metadata": {
        "id": "wkDLRKXHutJe",
        "outputId": "5cbabdc7-aa08-4a8b-aa52-6e3c4eecb678"
      },
      "outputs": [
        {
          "data": {
            "text/plain": [
              "array([  1,   5,   3, 999,  13,   7,   3])"
            ]
          },
          "execution_count": 70,
          "metadata": {},
          "output_type": "execute_result"
        }
      ],
      "source": [
        "a[3]=999\n",
        "a"
      ]
    },
    {
      "cell_type": "markdown",
      "metadata": {
        "id": "9ytcbkCDutJe"
      },
      "source": [
        "You can also modify an `ndarray` slice:"
      ]
    },
    {
      "cell_type": "code",
      "execution_count": null,
      "metadata": {
        "id": "qHUfN30HutJe",
        "outputId": "8c8e67aa-5e7d-4bd0-c3a8-7be000f8be41"
      },
      "outputs": [
        {
          "data": {
            "text/plain": [
              "array([  1,   5, 997, 998, 999,   7,   3])"
            ]
          },
          "execution_count": 71,
          "metadata": {},
          "output_type": "execute_result"
        }
      ],
      "source": [
        "a[2:5] = [997, 998, 999]\n",
        "a"
      ]
    },
    {
      "cell_type": "markdown",
      "metadata": {
        "id": "eZFtPnGnutJe"
      },
      "source": [
        "## Differences with regular python arrays\n",
        "Contrary to regular python arrays, if you assign a single value to an `ndarray` slice, it is copied across the whole slice, thanks to broadcasting rules discussed above."
      ]
    },
    {
      "cell_type": "code",
      "execution_count": null,
      "metadata": {
        "id": "tnHV100IutJf",
        "outputId": "86e62637-aa91-4cff-87c9-7dfc49ee8795"
      },
      "outputs": [
        {
          "data": {
            "text/plain": [
              "array([ 1,  5, -1, -1, -1,  7,  3])"
            ]
          },
          "execution_count": 72,
          "metadata": {},
          "output_type": "execute_result"
        }
      ],
      "source": [
        "a[2:5] = -1\n",
        "a"
      ]
    },
    {
      "cell_type": "markdown",
      "metadata": {
        "id": "JRlp6NoeutJf"
      },
      "source": [
        "Also, you cannot grow or shrink `ndarray`s this way:"
      ]
    },
    {
      "cell_type": "code",
      "execution_count": null,
      "metadata": {
        "id": "4GxuHehAutJf",
        "outputId": "e6f1c300-3ac1-4f8d-d43c-894aaec6fa34"
      },
      "outputs": [
        {
          "name": "stdout",
          "output_type": "stream",
          "text": [
            "cannot copy sequence with size 6 to array axis with dimension 3\n"
          ]
        }
      ],
      "source": [
        "try:\n",
        "    a[2:5] = [1,2,3,4,5,6]  # too long\n",
        "except ValueError as e:\n",
        "    print(e)"
      ]
    },
    {
      "cell_type": "markdown",
      "metadata": {
        "id": "NM9RvrNnutJf"
      },
      "source": [
        "You cannot delete elements either:"
      ]
    },
    {
      "cell_type": "code",
      "execution_count": null,
      "metadata": {
        "id": "GIr8XHOgutJf",
        "outputId": "46d0b45c-89e7-4aef-be79-c63df3ed7900"
      },
      "outputs": [
        {
          "name": "stdout",
          "output_type": "stream",
          "text": [
            "cannot delete array elements\n"
          ]
        }
      ],
      "source": [
        "try:\n",
        "    del a[2:5]\n",
        "except ValueError as e:\n",
        "    print(e)"
      ]
    },
    {
      "cell_type": "markdown",
      "metadata": {
        "id": "LNXCFxkqutJg"
      },
      "source": [
        "Last but not least, `ndarray` **slices are actually *views*** on the same data buffer. This means that if you create a slice and modify it, you are actually going to modify the original `ndarray` as well!"
      ]
    },
    {
      "cell_type": "code",
      "execution_count": null,
      "metadata": {
        "id": "Tklnkx0putJg",
        "outputId": "6d4b2e43-6804-4228-e5d3-2c92a611ed81"
      },
      "outputs": [
        {
          "data": {
            "text/plain": [
              "array([   1,    5,   -1, 1000,   -1,    7,    3])"
            ]
          },
          "execution_count": 75,
          "metadata": {},
          "output_type": "execute_result"
        }
      ],
      "source": [
        "a_slice = a[2:6]\n",
        "a_slice[1] = 1000\n",
        "a  # the original array was modified!"
      ]
    },
    {
      "cell_type": "code",
      "execution_count": null,
      "metadata": {
        "id": "BFHCerh6utJg",
        "outputId": "a7d35caf-6c3e-4dc4-f23c-20af5248163c"
      },
      "outputs": [
        {
          "data": {
            "text/plain": [
              "array([  -1, 2000,   -1,    7])"
            ]
          },
          "execution_count": 76,
          "metadata": {},
          "output_type": "execute_result"
        }
      ],
      "source": [
        "a[3] = 2000\n",
        "a_slice  # similarly, modifying the original array modifies the slice!"
      ]
    },
    {
      "cell_type": "markdown",
      "metadata": {
        "id": "G-L4YHFDutJg"
      },
      "source": [
        "If you want a copy of the data, you need to use the `copy` method:"
      ]
    },
    {
      "cell_type": "code",
      "execution_count": null,
      "metadata": {
        "id": "dy4yMb_ButJg",
        "outputId": "29bd28cf-8913-433b-bab3-f3a94ee819a1"
      },
      "outputs": [
        {
          "data": {
            "text/plain": [
              "array([   1,    5,   -1, 2000,   -1,    7,    3])"
            ]
          },
          "execution_count": 77,
          "metadata": {},
          "output_type": "execute_result"
        }
      ],
      "source": [
        "another_slice = a[2:6].copy()\n",
        "another_slice[1] = 3000\n",
        "a  # the original array is untouched"
      ]
    },
    {
      "cell_type": "code",
      "execution_count": null,
      "metadata": {
        "id": "Ie2vQoy2utJg",
        "outputId": "33a3d61b-eb29-437b-d1e0-775c8d6da3d6"
      },
      "outputs": [
        {
          "data": {
            "text/plain": [
              "array([  -1, 3000,   -1,    7])"
            ]
          },
          "execution_count": 78,
          "metadata": {},
          "output_type": "execute_result"
        }
      ],
      "source": [
        "a[3] = 4000\n",
        "another_slice  # similarly, modifying the original array does not affect the slice copy"
      ]
    },
    {
      "cell_type": "markdown",
      "metadata": {
        "id": "7vAJAuMVutJh"
      },
      "source": [
        "## Multidimensional arrays\n",
        "Multidimensional arrays can be accessed in a similar way by providing an index or slice for each axis, separated by commas:"
      ]
    },
    {
      "cell_type": "code",
      "execution_count": null,
      "metadata": {
        "id": "xYTDAgzOutJh",
        "outputId": "593ea327-7791-432a-aa62-ca0b0359781b"
      },
      "outputs": [
        {
          "data": {
            "text/plain": [
              "array([[ 0,  1,  2,  3,  4,  5,  6,  7,  8,  9, 10, 11],\n",
              "       [12, 13, 14, 15, 16, 17, 18, 19, 20, 21, 22, 23],\n",
              "       [24, 25, 26, 27, 28, 29, 30, 31, 32, 33, 34, 35],\n",
              "       [36, 37, 38, 39, 40, 41, 42, 43, 44, 45, 46, 47]])"
            ]
          },
          "execution_count": 79,
          "metadata": {},
          "output_type": "execute_result"
        }
      ],
      "source": [
        "b = np.arange(48).reshape(4, 12)\n",
        "b"
      ]
    },
    {
      "cell_type": "code",
      "execution_count": null,
      "metadata": {
        "id": "iPEsC9gkutJh",
        "outputId": "6298092f-6fe0-4c56-bc8f-85e9ca482f83"
      },
      "outputs": [
        {
          "data": {
            "text/plain": [
              "14"
            ]
          },
          "execution_count": 80,
          "metadata": {},
          "output_type": "execute_result"
        }
      ],
      "source": [
        "b[1, 2]  # row 1, col 2"
      ]
    },
    {
      "cell_type": "code",
      "execution_count": null,
      "metadata": {
        "id": "jE1A3OrButJh",
        "outputId": "7b6edd87-5915-4d6a-a169-4bec297eb4b9"
      },
      "outputs": [
        {
          "data": {
            "text/plain": [
              "array([12, 13, 14, 15, 16, 17, 18, 19, 20, 21, 22, 23])"
            ]
          },
          "execution_count": 81,
          "metadata": {},
          "output_type": "execute_result"
        }
      ],
      "source": [
        "b[1, :]  # row 1, all columns"
      ]
    },
    {
      "cell_type": "code",
      "execution_count": null,
      "metadata": {
        "id": "qHQSBD6UutJi",
        "outputId": "8c362a66-3868-4fde-e3c4-e10ea86bebb5"
      },
      "outputs": [
        {
          "data": {
            "text/plain": [
              "array([ 1, 13, 25, 37])"
            ]
          },
          "execution_count": 82,
          "metadata": {},
          "output_type": "execute_result"
        }
      ],
      "source": [
        "b[:, 1]  # all rows, column 1"
      ]
    },
    {
      "cell_type": "markdown",
      "metadata": {
        "id": "KwCj7k1SutJi"
      },
      "source": [
        "**Caution**: note the subtle difference between these two expressions: "
      ]
    },
    {
      "cell_type": "code",
      "execution_count": null,
      "metadata": {
        "scrolled": true,
        "id": "3EU0GRPUutJi",
        "outputId": "87e4b625-858b-4dcf-f43d-1e1f40f2b701"
      },
      "outputs": [
        {
          "data": {
            "text/plain": [
              "array([12, 13, 14, 15, 16, 17, 18, 19, 20, 21, 22, 23])"
            ]
          },
          "execution_count": 83,
          "metadata": {},
          "output_type": "execute_result"
        }
      ],
      "source": [
        "b[1, :]"
      ]
    },
    {
      "cell_type": "code",
      "execution_count": null,
      "metadata": {
        "id": "lIW_pIIAutJi",
        "outputId": "8051b466-0148-466c-c9a7-63049e0f3eff"
      },
      "outputs": [
        {
          "data": {
            "text/plain": [
              "array([[12, 13, 14, 15, 16, 17, 18, 19, 20, 21, 22, 23]])"
            ]
          },
          "execution_count": 84,
          "metadata": {},
          "output_type": "execute_result"
        }
      ],
      "source": [
        "b[1:2, :]"
      ]
    },
    {
      "cell_type": "markdown",
      "metadata": {
        "id": "kbtgNyyQutJi"
      },
      "source": [
        "The first expression returns row 1 as a 1D array of shape `(12,)`, while the second returns that same row as a 2D array of shape `(1, 12)`."
      ]
    },
    {
      "cell_type": "markdown",
      "metadata": {
        "id": "AT3tOgU0utJi"
      },
      "source": [
        "## Fancy indexing\n",
        "You may also specify a list of indices that you are interested in. This is referred to as *fancy indexing*."
      ]
    },
    {
      "cell_type": "code",
      "execution_count": null,
      "metadata": {
        "scrolled": true,
        "id": "mnagsRiCutJi",
        "outputId": "c96f1da0-9428-4f7a-c6a0-9583725f0d46"
      },
      "outputs": [
        {
          "data": {
            "text/plain": [
              "array([[ 2,  3,  4],\n",
              "       [26, 27, 28]])"
            ]
          },
          "execution_count": 85,
          "metadata": {},
          "output_type": "execute_result"
        }
      ],
      "source": [
        "b[(0,2), 2:5]  # rows 0 and 2, columns 2 to 4 (5-1)"
      ]
    },
    {
      "cell_type": "code",
      "execution_count": null,
      "metadata": {
        "id": "Ewje-b_zutJj",
        "outputId": "1c13ebc8-f7c8-4f65-80a0-5d3da218dd84"
      },
      "outputs": [
        {
          "data": {
            "text/plain": [
              "array([[11,  2, 11],\n",
              "       [23, 14, 23],\n",
              "       [35, 26, 35],\n",
              "       [47, 38, 47]])"
            ]
          },
          "execution_count": 86,
          "metadata": {},
          "output_type": "execute_result"
        }
      ],
      "source": [
        "b[:, (-1, 2, -1)]  # all rows, columns -1 (last), 2 and -1 (again, and in this order)"
      ]
    },
    {
      "cell_type": "markdown",
      "metadata": {
        "id": "cv4py1VkutJj"
      },
      "source": [
        "If you provide multiple index arrays, you get a 1D `ndarray` containing the values of the elements at the specified coordinates."
      ]
    },
    {
      "cell_type": "code",
      "execution_count": null,
      "metadata": {
        "id": "pXKyCHdrutJj",
        "outputId": "4f541ef3-7fac-4842-f36f-4f2a4ec0df9d"
      },
      "outputs": [
        {
          "data": {
            "text/plain": [
              "array([41, 33, 37, 33])"
            ]
          },
          "execution_count": 87,
          "metadata": {},
          "output_type": "execute_result"
        }
      ],
      "source": [
        "b[(-1, 2, -1, 2), (5, 9, 1, 9)]  # returns a 1D array with b[-1, 5], b[2, 9], b[-1, 1] and b[2, 9] (again)"
      ]
    },
    {
      "cell_type": "markdown",
      "metadata": {
        "id": "-pNN-04DutJj"
      },
      "source": [
        "## Higher dimensions\n",
        "Everything works just as well with higher dimensional arrays, but it's useful to look at a few examples:"
      ]
    },
    {
      "cell_type": "code",
      "execution_count": null,
      "metadata": {
        "id": "s4omSp40utJj",
        "outputId": "f9413f75-e1f2-49a1-e27b-e8bf1675b465"
      },
      "outputs": [
        {
          "data": {
            "text/plain": [
              "array([[[ 0,  1,  2,  3,  4,  5],\n",
              "        [ 6,  7,  8,  9, 10, 11]],\n",
              "\n",
              "       [[12, 13, 14, 15, 16, 17],\n",
              "        [18, 19, 20, 21, 22, 23]],\n",
              "\n",
              "       [[24, 25, 26, 27, 28, 29],\n",
              "        [30, 31, 32, 33, 34, 35]],\n",
              "\n",
              "       [[36, 37, 38, 39, 40, 41],\n",
              "        [42, 43, 44, 45, 46, 47]]])"
            ]
          },
          "execution_count": 88,
          "metadata": {},
          "output_type": "execute_result"
        }
      ],
      "source": [
        "c = b.reshape(4,2,6)\n",
        "c"
      ]
    },
    {
      "cell_type": "code",
      "execution_count": null,
      "metadata": {
        "id": "D1cBYV5mutJk",
        "outputId": "c5e30634-0ded-4c24-f166-c091fccaee93"
      },
      "outputs": [
        {
          "data": {
            "text/plain": [
              "34"
            ]
          },
          "execution_count": 89,
          "metadata": {},
          "output_type": "execute_result"
        }
      ],
      "source": [
        "c[2, 1, 4]  # matrix 2, row 1, col 4"
      ]
    },
    {
      "cell_type": "code",
      "execution_count": null,
      "metadata": {
        "id": "4DhpyS5_utJk",
        "outputId": "d2022e47-2240-4033-b865-d0e9cf56ba98"
      },
      "outputs": [
        {
          "data": {
            "text/plain": [
              "array([27, 33])"
            ]
          },
          "execution_count": 90,
          "metadata": {},
          "output_type": "execute_result"
        }
      ],
      "source": [
        "c[2, :, 3]  # matrix 2, all rows, col 3"
      ]
    },
    {
      "cell_type": "markdown",
      "metadata": {
        "id": "mtjFIdy9utJk"
      },
      "source": [
        "If you omit coordinates for some axes, then all elements in these axes are returned:"
      ]
    },
    {
      "cell_type": "code",
      "execution_count": null,
      "metadata": {
        "id": "zbvAWTxJutJk",
        "outputId": "ce639bc6-802f-4464-bb0a-709cbd7c8324"
      },
      "outputs": [
        {
          "data": {
            "text/plain": [
              "array([30, 31, 32, 33, 34, 35])"
            ]
          },
          "execution_count": 91,
          "metadata": {},
          "output_type": "execute_result"
        }
      ],
      "source": [
        "c[2, 1]  # Return matrix 2, row 1, all columns.  This is equivalent to c[2, 1, :]"
      ]
    },
    {
      "cell_type": "markdown",
      "metadata": {
        "id": "xtxBMw2RutJk"
      },
      "source": [
        "## Ellipsis (`...`)\n",
        "You may also write an ellipsis (`...`) to ask that all non-specified axes be entirely included."
      ]
    },
    {
      "cell_type": "code",
      "execution_count": null,
      "metadata": {
        "id": "eTZptkKrutJk",
        "outputId": "f2d99c2a-7b7e-41b0-ec4c-1bf588874c58"
      },
      "outputs": [
        {
          "data": {
            "text/plain": [
              "array([[24, 25, 26, 27, 28, 29],\n",
              "       [30, 31, 32, 33, 34, 35]])"
            ]
          },
          "execution_count": 92,
          "metadata": {},
          "output_type": "execute_result"
        }
      ],
      "source": [
        "c[2, ...]  #  matrix 2, all rows, all columns.  This is equivalent to c[2, :, :]"
      ]
    },
    {
      "cell_type": "code",
      "execution_count": null,
      "metadata": {
        "id": "FGLLQr16utJk",
        "outputId": "2485a7e3-ed4e-4700-bc1b-7bd71ce9f9c2"
      },
      "outputs": [
        {
          "data": {
            "text/plain": [
              "array([30, 31, 32, 33, 34, 35])"
            ]
          },
          "execution_count": 93,
          "metadata": {},
          "output_type": "execute_result"
        }
      ],
      "source": [
        "c[2, 1, ...]  # matrix 2, row 1, all columns.  This is equivalent to c[2, 1, :]"
      ]
    },
    {
      "cell_type": "code",
      "execution_count": null,
      "metadata": {
        "id": "kef4jK2hutJl",
        "outputId": "583637cd-beec-4bf4-da05-15d5e464c780"
      },
      "outputs": [
        {
          "data": {
            "text/plain": [
              "array([27, 33])"
            ]
          },
          "execution_count": 94,
          "metadata": {},
          "output_type": "execute_result"
        }
      ],
      "source": [
        "c[2, ..., 3]  # matrix 2, all rows, column 3.  This is equivalent to c[2, :, 3]"
      ]
    },
    {
      "cell_type": "code",
      "execution_count": null,
      "metadata": {
        "id": "BHA8YwpUutJl",
        "outputId": "ba3b2c5c-ee6f-46b1-85cc-83d4f8a28162"
      },
      "outputs": [
        {
          "data": {
            "text/plain": [
              "array([[ 3,  9],\n",
              "       [15, 21],\n",
              "       [27, 33],\n",
              "       [39, 45]])"
            ]
          },
          "execution_count": 95,
          "metadata": {},
          "output_type": "execute_result"
        }
      ],
      "source": [
        "c[..., 3]  # all matrices, all rows, column 3.  This is equivalent to c[:, :, 3]"
      ]
    },
    {
      "cell_type": "markdown",
      "metadata": {
        "id": "9dOBLtF4utJl"
      },
      "source": [
        "## Boolean indexing\n",
        "You can also provide an `ndarray` of boolean values on one axis to specify the indices that you want to access."
      ]
    },
    {
      "cell_type": "code",
      "execution_count": null,
      "metadata": {
        "id": "UveziYPrutJl",
        "outputId": "bcdde65d-421d-49cc-f00b-6e1aa5a6d013"
      },
      "outputs": [
        {
          "data": {
            "text/plain": [
              "array([[ 0,  1,  2,  3,  4,  5,  6,  7,  8,  9, 10, 11],\n",
              "       [12, 13, 14, 15, 16, 17, 18, 19, 20, 21, 22, 23],\n",
              "       [24, 25, 26, 27, 28, 29, 30, 31, 32, 33, 34, 35],\n",
              "       [36, 37, 38, 39, 40, 41, 42, 43, 44, 45, 46, 47]])"
            ]
          },
          "execution_count": 96,
          "metadata": {},
          "output_type": "execute_result"
        }
      ],
      "source": [
        "b = np.arange(48).reshape(4, 12)\n",
        "b"
      ]
    },
    {
      "cell_type": "code",
      "execution_count": null,
      "metadata": {
        "id": "dJ63O8nZutJl",
        "outputId": "e168cd6b-0ddc-4f05-af83-7732fd0c5271"
      },
      "outputs": [
        {
          "data": {
            "text/plain": [
              "array([[ 0,  1,  2,  3,  4,  5,  6,  7,  8,  9, 10, 11],\n",
              "       [24, 25, 26, 27, 28, 29, 30, 31, 32, 33, 34, 35]])"
            ]
          },
          "execution_count": 97,
          "metadata": {},
          "output_type": "execute_result"
        }
      ],
      "source": [
        "rows_on = np.array([True, False, True, False])\n",
        "b[rows_on, :]  # Rows 0 and 2, all columns. Equivalent to b[(0, 2), :]"
      ]
    },
    {
      "cell_type": "code",
      "execution_count": null,
      "metadata": {
        "id": "Lz8zEGn4utJl",
        "outputId": "eb06f680-2e6e-4691-f417-8968996b1d15"
      },
      "outputs": [
        {
          "data": {
            "text/plain": [
              "array([[ 1,  4,  7, 10],\n",
              "       [13, 16, 19, 22],\n",
              "       [25, 28, 31, 34],\n",
              "       [37, 40, 43, 46]])"
            ]
          },
          "execution_count": 98,
          "metadata": {},
          "output_type": "execute_result"
        }
      ],
      "source": [
        "cols_on = np.array([False, True, False] * 4)\n",
        "b[:, cols_on]  # All rows, columns 1, 4, 7 and 10"
      ]
    },
    {
      "cell_type": "markdown",
      "metadata": {
        "id": "2zbrr8NZutJm"
      },
      "source": [
        "## `np.ix_`\n",
        "You cannot use boolean indexing this way on multiple axes, but you can work around this by using the `ix_` function:"
      ]
    },
    {
      "cell_type": "code",
      "execution_count": null,
      "metadata": {
        "id": "0FAmQQEiutJm",
        "outputId": "8e84977d-bea8-4dfa-f335-de7dffaa4125"
      },
      "outputs": [
        {
          "data": {
            "text/plain": [
              "array([[ 1,  4,  7, 10],\n",
              "       [25, 28, 31, 34]])"
            ]
          },
          "execution_count": 99,
          "metadata": {},
          "output_type": "execute_result"
        }
      ],
      "source": [
        "b[np.ix_(rows_on, cols_on)]"
      ]
    },
    {
      "cell_type": "code",
      "execution_count": null,
      "metadata": {
        "id": "QbPvavpButJm",
        "outputId": "e0509cad-3aae-4708-df8a-a37219d0334f"
      },
      "outputs": [
        {
          "data": {
            "text/plain": [
              "(array([[0],\n",
              "        [2]]),\n",
              " array([[ 1,  4,  7, 10]]))"
            ]
          },
          "execution_count": 100,
          "metadata": {},
          "output_type": "execute_result"
        }
      ],
      "source": [
        "np.ix_(rows_on, cols_on)"
      ]
    },
    {
      "cell_type": "markdown",
      "metadata": {
        "id": "TaO5tmNautJm"
      },
      "source": [
        "If you use a boolean array that has the same shape as the `ndarray`, then you get in return a 1D array containing all the values that have `True` at their coordinate. This is generally used along with conditional operators:"
      ]
    },
    {
      "cell_type": "code",
      "execution_count": null,
      "metadata": {
        "id": "1iHlTc6YutJm",
        "outputId": "f9eb5f26-786a-4542-9a95-6495835d0361"
      },
      "outputs": [
        {
          "data": {
            "text/plain": [
              "array([ 1,  4,  7, 10, 13, 16, 19, 22, 25, 28, 31, 34, 37, 40, 43, 46])"
            ]
          },
          "execution_count": 101,
          "metadata": {},
          "output_type": "execute_result"
        }
      ],
      "source": [
        "b[b % 3 == 1]"
      ]
    },
    {
      "cell_type": "markdown",
      "metadata": {
        "id": "KLKH4L12utJm"
      },
      "source": [
        "# Iterating\n",
        "Iterating over `ndarray`s is very similar to iterating over regular python arrays. Note that iterating over multidimensional arrays is done with respect to the first axis."
      ]
    },
    {
      "cell_type": "code",
      "execution_count": null,
      "metadata": {
        "id": "WE2hKuoxutJm",
        "outputId": "fa5a8cfc-f508-4113-c4c7-f315df8bfa95"
      },
      "outputs": [
        {
          "data": {
            "text/plain": [
              "array([[[ 0,  1,  2,  3],\n",
              "        [ 4,  5,  6,  7],\n",
              "        [ 8,  9, 10, 11]],\n",
              "\n",
              "       [[12, 13, 14, 15],\n",
              "        [16, 17, 18, 19],\n",
              "        [20, 21, 22, 23]]])"
            ]
          },
          "execution_count": 102,
          "metadata": {},
          "output_type": "execute_result"
        }
      ],
      "source": [
        "c = np.arange(24).reshape(2, 3, 4)  # A 3D array (composed of two 3x4 matrices)\n",
        "c"
      ]
    },
    {
      "cell_type": "code",
      "execution_count": null,
      "metadata": {
        "id": "IlzPqwzuutJn",
        "outputId": "665478d5-289a-4f8f-fac8-729592ed6b71"
      },
      "outputs": [
        {
          "name": "stdout",
          "output_type": "stream",
          "text": [
            "Item:\n",
            "[[ 0  1  2  3]\n",
            " [ 4  5  6  7]\n",
            " [ 8  9 10 11]]\n",
            "Item:\n",
            "[[12 13 14 15]\n",
            " [16 17 18 19]\n",
            " [20 21 22 23]]\n"
          ]
        }
      ],
      "source": [
        "for m in c:\n",
        "    print(\"Item:\")\n",
        "    print(m)"
      ]
    },
    {
      "cell_type": "code",
      "execution_count": null,
      "metadata": {
        "id": "aDV08MaUutJn",
        "outputId": "bdf36381-ea7f-4abd-b18c-337d6803516e"
      },
      "outputs": [
        {
          "name": "stdout",
          "output_type": "stream",
          "text": [
            "Item:\n",
            "[[ 0  1  2  3]\n",
            " [ 4  5  6  7]\n",
            " [ 8  9 10 11]]\n",
            "Item:\n",
            "[[12 13 14 15]\n",
            " [16 17 18 19]\n",
            " [20 21 22 23]]\n"
          ]
        }
      ],
      "source": [
        "for i in range(len(c)):  # Note that len(c) == c.shape[0]\n",
        "    print(\"Item:\")\n",
        "    print(c[i])"
      ]
    },
    {
      "cell_type": "markdown",
      "metadata": {
        "id": "V-e_B6MhutJn"
      },
      "source": [
        "If you want to iterate on *all* elements in the `ndarray`, simply iterate over the `flat` attribute:"
      ]
    },
    {
      "cell_type": "code",
      "execution_count": null,
      "metadata": {
        "id": "MGzR4RWMutJn",
        "outputId": "53595d4d-7640-4e51-a4a3-98ab5f2aee6f"
      },
      "outputs": [
        {
          "name": "stdout",
          "output_type": "stream",
          "text": [
            "Item: 0\n",
            "Item: 1\n",
            "Item: 2\n",
            "Item: 3\n",
            "Item: 4\n",
            "Item: 5\n",
            "Item: 6\n",
            "Item: 7\n",
            "Item: 8\n",
            "Item: 9\n",
            "Item: 10\n",
            "Item: 11\n",
            "Item: 12\n",
            "Item: 13\n",
            "Item: 14\n",
            "Item: 15\n",
            "Item: 16\n",
            "Item: 17\n",
            "Item: 18\n",
            "Item: 19\n",
            "Item: 20\n",
            "Item: 21\n",
            "Item: 22\n",
            "Item: 23\n"
          ]
        }
      ],
      "source": [
        "for i in c.flat:\n",
        "    print(\"Item:\", i)"
      ]
    },
    {
      "cell_type": "markdown",
      "metadata": {
        "id": "iSghxJOxutJn"
      },
      "source": [
        "# Stacking arrays\n",
        "It is often useful to stack together different arrays. NumPy offers several functions to do just that. Let's start by creating a few arrays."
      ]
    },
    {
      "cell_type": "code",
      "execution_count": null,
      "metadata": {
        "id": "4IELdHYAutJn",
        "outputId": "96b9255e-ae91-4296-bd21-d17ab5b922b0"
      },
      "outputs": [
        {
          "data": {
            "text/plain": [
              "array([[1., 1., 1., 1.],\n",
              "       [1., 1., 1., 1.],\n",
              "       [1., 1., 1., 1.]])"
            ]
          },
          "execution_count": 106,
          "metadata": {},
          "output_type": "execute_result"
        }
      ],
      "source": [
        "q1 = np.full((3,4), 1.0)\n",
        "q1"
      ]
    },
    {
      "cell_type": "code",
      "execution_count": null,
      "metadata": {
        "id": "A1DtcKA3utJn",
        "outputId": "0553e625-9d5b-4ffa-bc19-605554a12f44"
      },
      "outputs": [
        {
          "data": {
            "text/plain": [
              "array([[2., 2., 2., 2.],\n",
              "       [2., 2., 2., 2.],\n",
              "       [2., 2., 2., 2.],\n",
              "       [2., 2., 2., 2.]])"
            ]
          },
          "execution_count": 107,
          "metadata": {},
          "output_type": "execute_result"
        }
      ],
      "source": [
        "q2 = np.full((4,4), 2.0)\n",
        "q2"
      ]
    },
    {
      "cell_type": "code",
      "execution_count": null,
      "metadata": {
        "id": "adAXpB-9utJn",
        "outputId": "8c59d4aa-60b1-4044-e175-ef30953d2727"
      },
      "outputs": [
        {
          "data": {
            "text/plain": [
              "array([[3., 3., 3., 3.],\n",
              "       [3., 3., 3., 3.],\n",
              "       [3., 3., 3., 3.]])"
            ]
          },
          "execution_count": 108,
          "metadata": {},
          "output_type": "execute_result"
        }
      ],
      "source": [
        "q3 = np.full((3,4), 3.0)\n",
        "q3"
      ]
    },
    {
      "cell_type": "markdown",
      "metadata": {
        "id": "VTL4tp3VutJo"
      },
      "source": [
        "## `vstack`\n",
        "Now let's stack them vertically using `vstack`:"
      ]
    },
    {
      "cell_type": "code",
      "execution_count": null,
      "metadata": {
        "id": "CZNGjVWCutJo",
        "outputId": "893c2440-bba0-441e-b36b-0579282bbe4f"
      },
      "outputs": [
        {
          "data": {
            "text/plain": [
              "array([[1., 1., 1., 1.],\n",
              "       [1., 1., 1., 1.],\n",
              "       [1., 1., 1., 1.],\n",
              "       [2., 2., 2., 2.],\n",
              "       [2., 2., 2., 2.],\n",
              "       [2., 2., 2., 2.],\n",
              "       [2., 2., 2., 2.],\n",
              "       [3., 3., 3., 3.],\n",
              "       [3., 3., 3., 3.],\n",
              "       [3., 3., 3., 3.]])"
            ]
          },
          "execution_count": 109,
          "metadata": {},
          "output_type": "execute_result"
        }
      ],
      "source": [
        "q4 = np.vstack((q1, q2, q3))\n",
        "q4"
      ]
    },
    {
      "cell_type": "code",
      "execution_count": null,
      "metadata": {
        "id": "OmLZz862utJo",
        "outputId": "3c0e2ad6-ec87-4c2b-fa7f-cc3160573971"
      },
      "outputs": [
        {
          "data": {
            "text/plain": [
              "(10, 4)"
            ]
          },
          "execution_count": 110,
          "metadata": {},
          "output_type": "execute_result"
        }
      ],
      "source": [
        "q4.shape"
      ]
    },
    {
      "cell_type": "markdown",
      "metadata": {
        "id": "rOlptblButJo"
      },
      "source": [
        "It was possible because q1, q2 and q3 all have the same shape (except for the vertical axis, but that's ok since we are stacking on that axis).\n",
        "\n",
        "## `hstack`\n",
        "We can also stack arrays horizontally using `hstack`:"
      ]
    },
    {
      "cell_type": "code",
      "execution_count": null,
      "metadata": {
        "id": "tnrb5oKZutJo",
        "outputId": "73a613d8-eb25-4489-ec15-50fe7c7b718c"
      },
      "outputs": [
        {
          "data": {
            "text/plain": [
              "array([[1., 1., 1., 1., 3., 3., 3., 3.],\n",
              "       [1., 1., 1., 1., 3., 3., 3., 3.],\n",
              "       [1., 1., 1., 1., 3., 3., 3., 3.]])"
            ]
          },
          "execution_count": 111,
          "metadata": {},
          "output_type": "execute_result"
        }
      ],
      "source": [
        "q5 = np.hstack((q1, q3))\n",
        "q5"
      ]
    },
    {
      "cell_type": "code",
      "execution_count": null,
      "metadata": {
        "id": "1_RfiUu2utJo",
        "outputId": "29964983-9c44-4688-b5d6-afe9a7c44f47"
      },
      "outputs": [
        {
          "data": {
            "text/plain": [
              "(3, 8)"
            ]
          },
          "execution_count": 112,
          "metadata": {},
          "output_type": "execute_result"
        }
      ],
      "source": [
        "q5.shape"
      ]
    },
    {
      "cell_type": "markdown",
      "metadata": {
        "id": "v468kgDrutJo"
      },
      "source": [
        "It is possible because q1 and q3 both have 3 rows. But since q2 has 4 rows, it cannot be stacked horizontally with q1 and q3:"
      ]
    },
    {
      "cell_type": "code",
      "execution_count": null,
      "metadata": {
        "id": "leeZsp1jutJo",
        "outputId": "86f1d6c1-2b81-4f9f-89e3-956948e890cc"
      },
      "outputs": [
        {
          "name": "stdout",
          "output_type": "stream",
          "text": [
            "all the input array dimensions for the concatenation axis must match exactly, but along dimension 0, the array at index 0 has size 3 and the array at index 1 has size 4\n"
          ]
        }
      ],
      "source": [
        "try:\n",
        "    q5 = np.hstack((q1, q2, q3))\n",
        "except ValueError as e:\n",
        "    print(e)"
      ]
    },
    {
      "cell_type": "markdown",
      "metadata": {
        "id": "6wfomlF4utJp"
      },
      "source": [
        "## `concatenate`\n",
        "The `concatenate` function stacks arrays along any given existing axis."
      ]
    },
    {
      "cell_type": "code",
      "execution_count": null,
      "metadata": {
        "id": "1J1M0MrfutJp",
        "outputId": "243993b5-24b0-47ef-eb6b-c4a5a8156cf5"
      },
      "outputs": [
        {
          "data": {
            "text/plain": [
              "array([[1., 1., 1., 1.],\n",
              "       [1., 1., 1., 1.],\n",
              "       [1., 1., 1., 1.],\n",
              "       [2., 2., 2., 2.],\n",
              "       [2., 2., 2., 2.],\n",
              "       [2., 2., 2., 2.],\n",
              "       [2., 2., 2., 2.],\n",
              "       [3., 3., 3., 3.],\n",
              "       [3., 3., 3., 3.],\n",
              "       [3., 3., 3., 3.]])"
            ]
          },
          "execution_count": 114,
          "metadata": {},
          "output_type": "execute_result"
        }
      ],
      "source": [
        "q7 = np.concatenate((q1, q2, q3), axis=0)  # Equivalent to vstack\n",
        "q7"
      ]
    },
    {
      "cell_type": "code",
      "execution_count": null,
      "metadata": {
        "id": "6zQ1RSW-utJp",
        "outputId": "b2d3d8f8-194a-481a-8134-eadf54edd76d"
      },
      "outputs": [
        {
          "data": {
            "text/plain": [
              "(10, 4)"
            ]
          },
          "execution_count": 115,
          "metadata": {},
          "output_type": "execute_result"
        }
      ],
      "source": [
        "q7.shape"
      ]
    },
    {
      "cell_type": "markdown",
      "metadata": {
        "id": "H-LbVTd3utJp"
      },
      "source": [
        "As you might guess, `hstack` is equivalent to calling `concatenate` with `axis=1`."
      ]
    },
    {
      "cell_type": "markdown",
      "metadata": {
        "id": "pL6aW8M_utJp"
      },
      "source": [
        "## `stack`\n",
        "The `stack` function stacks arrays along a new axis. All arrays have to have the same shape."
      ]
    },
    {
      "cell_type": "code",
      "execution_count": null,
      "metadata": {
        "id": "nGbgBk16utJp",
        "outputId": "5e29c6a5-7581-44b2-879f-4e917e0b8431"
      },
      "outputs": [
        {
          "data": {
            "text/plain": [
              "array([[[1., 1., 1., 1.],\n",
              "        [1., 1., 1., 1.],\n",
              "        [1., 1., 1., 1.]],\n",
              "\n",
              "       [[3., 3., 3., 3.],\n",
              "        [3., 3., 3., 3.],\n",
              "        [3., 3., 3., 3.]]])"
            ]
          },
          "execution_count": 116,
          "metadata": {},
          "output_type": "execute_result"
        }
      ],
      "source": [
        "q8 = np.stack((q1, q3))\n",
        "q8"
      ]
    },
    {
      "cell_type": "code",
      "execution_count": null,
      "metadata": {
        "id": "tEOokayDutJp",
        "outputId": "f842bebc-8ecd-4651-a00a-47ad07d9b1d5"
      },
      "outputs": [
        {
          "data": {
            "text/plain": [
              "(2, 3, 4)"
            ]
          },
          "execution_count": 117,
          "metadata": {},
          "output_type": "execute_result"
        }
      ],
      "source": [
        "q8.shape"
      ]
    },
    {
      "cell_type": "markdown",
      "metadata": {
        "id": "s6ouFwowutJp"
      },
      "source": [
        "# Splitting arrays\n",
        "Splitting is the opposite of stacking. For example, let's use the `vsplit` function to split a matrix vertically.\n",
        "\n",
        "First let's create a 6x4 matrix:"
      ]
    },
    {
      "cell_type": "code",
      "execution_count": null,
      "metadata": {
        "id": "lKphV9qCutJq",
        "outputId": "ffcf79d9-34b5-44f2-9900-21cab55a419f"
      },
      "outputs": [
        {
          "data": {
            "text/plain": [
              "array([[ 0,  1,  2,  3],\n",
              "       [ 4,  5,  6,  7],\n",
              "       [ 8,  9, 10, 11],\n",
              "       [12, 13, 14, 15],\n",
              "       [16, 17, 18, 19],\n",
              "       [20, 21, 22, 23]])"
            ]
          },
          "execution_count": 118,
          "metadata": {},
          "output_type": "execute_result"
        }
      ],
      "source": [
        "r = np.arange(24).reshape(6,4)\n",
        "r"
      ]
    },
    {
      "cell_type": "markdown",
      "metadata": {
        "id": "0U-uxDA1utJq"
      },
      "source": [
        "Now let's split it in three equal parts, vertically:"
      ]
    },
    {
      "cell_type": "code",
      "execution_count": null,
      "metadata": {
        "id": "D8TobnkPutJq",
        "outputId": "d6ec3ebc-fdce-41c3-8198-a97b47b9e590"
      },
      "outputs": [
        {
          "data": {
            "text/plain": [
              "array([[0, 1, 2, 3],\n",
              "       [4, 5, 6, 7]])"
            ]
          },
          "execution_count": 119,
          "metadata": {},
          "output_type": "execute_result"
        }
      ],
      "source": [
        "r1, r2, r3 = np.vsplit(r, 3)\n",
        "r1"
      ]
    },
    {
      "cell_type": "code",
      "execution_count": null,
      "metadata": {
        "id": "FmbfmBMrutJq",
        "outputId": "bbf5f442-86f7-4fe2-9a65-40659801a602"
      },
      "outputs": [
        {
          "data": {
            "text/plain": [
              "array([[ 8,  9, 10, 11],\n",
              "       [12, 13, 14, 15]])"
            ]
          },
          "execution_count": 120,
          "metadata": {},
          "output_type": "execute_result"
        }
      ],
      "source": [
        "r2"
      ]
    },
    {
      "cell_type": "code",
      "execution_count": null,
      "metadata": {
        "id": "ulSeQmeYutJq",
        "outputId": "4036d33f-6125-49fa-9f34-80f318a0fe0c"
      },
      "outputs": [
        {
          "data": {
            "text/plain": [
              "array([[16, 17, 18, 19],\n",
              "       [20, 21, 22, 23]])"
            ]
          },
          "execution_count": 121,
          "metadata": {},
          "output_type": "execute_result"
        }
      ],
      "source": [
        "r3"
      ]
    },
    {
      "cell_type": "markdown",
      "metadata": {
        "id": "5enjsxJTutJq"
      },
      "source": [
        "There is also a `split` function which splits an array along any given axis. Calling `vsplit` is equivalent to calling `split` with `axis=0`. There is also an `hsplit` function, equivalent to calling `split` with `axis=1`:"
      ]
    },
    {
      "cell_type": "code",
      "execution_count": null,
      "metadata": {
        "id": "owFJ9sleutJq",
        "outputId": "952573de-2c26-4060-a7f6-ed69e86325b4"
      },
      "outputs": [
        {
          "data": {
            "text/plain": [
              "array([[ 0,  1],\n",
              "       [ 4,  5],\n",
              "       [ 8,  9],\n",
              "       [12, 13],\n",
              "       [16, 17],\n",
              "       [20, 21]])"
            ]
          },
          "execution_count": 122,
          "metadata": {},
          "output_type": "execute_result"
        }
      ],
      "source": [
        "r4, r5 = np.hsplit(r, 2)\n",
        "r4"
      ]
    },
    {
      "cell_type": "code",
      "execution_count": null,
      "metadata": {
        "id": "cpyvbts9utJq",
        "outputId": "f1e85fc2-f58f-4e4a-8c12-e055ea74c0a2"
      },
      "outputs": [
        {
          "data": {
            "text/plain": [
              "array([[ 2,  3],\n",
              "       [ 6,  7],\n",
              "       [10, 11],\n",
              "       [14, 15],\n",
              "       [18, 19],\n",
              "       [22, 23]])"
            ]
          },
          "execution_count": 123,
          "metadata": {},
          "output_type": "execute_result"
        }
      ],
      "source": [
        "r5"
      ]
    },
    {
      "cell_type": "markdown",
      "metadata": {
        "id": "n-fWvEA8utJr"
      },
      "source": [
        "# Transposing arrays\n",
        "The `transpose` method creates a new view on an `ndarray`'s data, with axes permuted in the given order.\n",
        "\n",
        "For example, let's create a 3D array:"
      ]
    },
    {
      "cell_type": "code",
      "execution_count": null,
      "metadata": {
        "id": "UHhGXDlfutJr",
        "outputId": "e9dd0f8a-8d9c-41ce-8470-b79c661d66ad"
      },
      "outputs": [
        {
          "data": {
            "text/plain": [
              "array([[[ 0,  1,  2],\n",
              "        [ 3,  4,  5]],\n",
              "\n",
              "       [[ 6,  7,  8],\n",
              "        [ 9, 10, 11]],\n",
              "\n",
              "       [[12, 13, 14],\n",
              "        [15, 16, 17]],\n",
              "\n",
              "       [[18, 19, 20],\n",
              "        [21, 22, 23]]])"
            ]
          },
          "execution_count": 124,
          "metadata": {},
          "output_type": "execute_result"
        }
      ],
      "source": [
        "t = np.arange(24).reshape(4,2,3)\n",
        "t"
      ]
    },
    {
      "cell_type": "markdown",
      "metadata": {
        "id": "y6q-2RETutJr"
      },
      "source": [
        "Now let's create an `ndarray` such that the axes `0, 1, 2` (depth, height, width) are re-ordered to `1, 2, 0` (depth→width, height→depth, width→height):"
      ]
    },
    {
      "cell_type": "code",
      "execution_count": null,
      "metadata": {
        "id": "rq2CLHw0utJr",
        "outputId": "aaa95bd8-1374-4c66-a753-e6f0e8cda41d"
      },
      "outputs": [
        {
          "data": {
            "text/plain": [
              "array([[[ 0,  6, 12, 18],\n",
              "        [ 1,  7, 13, 19],\n",
              "        [ 2,  8, 14, 20]],\n",
              "\n",
              "       [[ 3,  9, 15, 21],\n",
              "        [ 4, 10, 16, 22],\n",
              "        [ 5, 11, 17, 23]]])"
            ]
          },
          "execution_count": 125,
          "metadata": {},
          "output_type": "execute_result"
        }
      ],
      "source": [
        "t1 = t.transpose((1,2,0))\n",
        "t1"
      ]
    },
    {
      "cell_type": "code",
      "execution_count": null,
      "metadata": {
        "id": "JvYWQE0outJr",
        "outputId": "70ce523c-3fcb-412f-ae14-1030d31cae6c"
      },
      "outputs": [
        {
          "data": {
            "text/plain": [
              "(2, 3, 4)"
            ]
          },
          "execution_count": 126,
          "metadata": {},
          "output_type": "execute_result"
        }
      ],
      "source": [
        "t1.shape"
      ]
    },
    {
      "cell_type": "markdown",
      "metadata": {
        "id": "FW-ym7W6utJr"
      },
      "source": [
        "By default, `transpose` reverses the order of the dimensions:"
      ]
    },
    {
      "cell_type": "code",
      "execution_count": null,
      "metadata": {
        "id": "8P1Z51lJutJs",
        "outputId": "0ea75da9-dbbf-4bf3-d305-eb545faa2872"
      },
      "outputs": [
        {
          "data": {
            "text/plain": [
              "array([[[ 0,  6, 12, 18],\n",
              "        [ 3,  9, 15, 21]],\n",
              "\n",
              "       [[ 1,  7, 13, 19],\n",
              "        [ 4, 10, 16, 22]],\n",
              "\n",
              "       [[ 2,  8, 14, 20],\n",
              "        [ 5, 11, 17, 23]]])"
            ]
          },
          "execution_count": 127,
          "metadata": {},
          "output_type": "execute_result"
        }
      ],
      "source": [
        "t2 = t.transpose()  # equivalent to t.transpose((2, 1, 0))\n",
        "t2"
      ]
    },
    {
      "cell_type": "code",
      "execution_count": null,
      "metadata": {
        "id": "eM0GVmvVutJs",
        "outputId": "6d48add4-dd3b-423c-ea86-5e5a975bea0e"
      },
      "outputs": [
        {
          "data": {
            "text/plain": [
              "(3, 2, 4)"
            ]
          },
          "execution_count": 128,
          "metadata": {},
          "output_type": "execute_result"
        }
      ],
      "source": [
        "t2.shape"
      ]
    },
    {
      "cell_type": "markdown",
      "metadata": {
        "id": "Y-lo2jA6utJs"
      },
      "source": [
        "NumPy provides a convenience function `swapaxes` to swap two axes. For example, let's create a new view of `t` with depth and height swapped:"
      ]
    },
    {
      "cell_type": "code",
      "execution_count": null,
      "metadata": {
        "id": "d73Tk8b9utJs",
        "outputId": "b7a3036f-0c9a-40fc-88ac-20988b4ad18f"
      },
      "outputs": [
        {
          "data": {
            "text/plain": [
              "array([[[ 0,  1,  2],\n",
              "        [ 6,  7,  8],\n",
              "        [12, 13, 14],\n",
              "        [18, 19, 20]],\n",
              "\n",
              "       [[ 3,  4,  5],\n",
              "        [ 9, 10, 11],\n",
              "        [15, 16, 17],\n",
              "        [21, 22, 23]]])"
            ]
          },
          "execution_count": 129,
          "metadata": {},
          "output_type": "execute_result"
        }
      ],
      "source": [
        "t3 = t.swapaxes(0,1)  # equivalent to t.transpose((1, 0, 2))\n",
        "t3"
      ]
    },
    {
      "cell_type": "code",
      "execution_count": null,
      "metadata": {
        "id": "ZJVyYDteutJs",
        "outputId": "ac753d93-8020-4b87-a0ca-b00ca1c5dfa4"
      },
      "outputs": [
        {
          "data": {
            "text/plain": [
              "(2, 4, 3)"
            ]
          },
          "execution_count": 130,
          "metadata": {},
          "output_type": "execute_result"
        }
      ],
      "source": [
        "t3.shape"
      ]
    },
    {
      "cell_type": "code",
      "source": [],
      "metadata": {
        "id": "ABNCf10rxLNb"
      },
      "execution_count": null,
      "outputs": []
    },
    {
      "cell_type": "markdown",
      "metadata": {
        "id": "2oCQZkgkvi7A"
      },
      "source": [
        "# Saving and loading\n",
        "NumPy makes it easy to save and load `ndarray`s in binary or text format.\n",
        "\n"
      ]
    },
    {
      "cell_type": "markdown",
      "source": [
        "## Binary `.npy` format\n",
        "Let's create a random array and save it."
      ],
      "metadata": {
        "id": "pJuVrFU0xSlC"
      }
    },
    {
      "cell_type": "code",
      "execution_count": null,
      "metadata": {
        "scrolled": true,
        "id": "qXtlONVfvi7A",
        "outputId": "a757a7fb-37b5-4ec2-bbf1-a2a9340b3140"
      },
      "outputs": [
        {
          "data": {
            "text/plain": [
              "array([[0.61340716, 0.6785629 , 0.07091271],\n",
              "       [0.60611491, 0.76189645, 0.2167531 ]])"
            ]
          },
          "execution_count": 168,
          "metadata": {},
          "output_type": "execute_result"
        }
      ],
      "source": [
        "a = np.random.rand(2,3)\n",
        "a"
      ]
    },
    {
      "cell_type": "code",
      "execution_count": null,
      "metadata": {
        "id": "P6XpEULGvi7A"
      },
      "outputs": [],
      "source": [
        "np.save(\"my_array\", a)"
      ]
    },
    {
      "cell_type": "markdown",
      "metadata": {
        "id": "4LhHnOU-vi7A"
      },
      "source": [
        "Done! Since the file name contains no file extension, NumPy automatically added `.npy`. Let's take a peek at the file content:"
      ]
    },
    {
      "cell_type": "code",
      "execution_count": null,
      "metadata": {
        "id": "JiHN0kCvvi7A",
        "outputId": "8c0c5361-22e6-4c8f-80d5-898e34b7108f"
      },
      "outputs": [
        {
          "data": {
            "text/plain": [
              "b\"\\x93NUMPY\\x01\\x00v\\x00{'descr': '<f8', 'fortran_order': False, 'shape': (2, 3), }                                                          \\nEB\\x17\\x0e\\x08\\xa1\\xe3?O^\\xcc\\x8b\\xc9\\xb6\\xe5?\\x90(\\r\\xc6U'\\xb2?r\\xcf\\n\\x19Ke\\xe3?\\xf8/q\\xaata\\xe8?H#\\xae\\xbf\\x90\\xbe\\xcb?\""
            ]
          },
          "execution_count": 170,
          "metadata": {},
          "output_type": "execute_result"
        }
      ],
      "source": [
        "with open(\"my_array.npy\", \"rb\") as f:\n",
        "    content = f.read()\n",
        "\n",
        "content"
      ]
    },
    {
      "cell_type": "markdown",
      "metadata": {
        "id": "SUrFjhQavi7A"
      },
      "source": [
        "To load this file into a NumPy array, simply call `load`:"
      ]
    },
    {
      "cell_type": "code",
      "execution_count": null,
      "metadata": {
        "id": "6LkVwzCbvi7A",
        "outputId": "b80a30bb-6e13-4be2-8254-b3c29d0fa678"
      },
      "outputs": [
        {
          "data": {
            "text/plain": [
              "array([[0.61340716, 0.6785629 , 0.07091271],\n",
              "       [0.60611491, 0.76189645, 0.2167531 ]])"
            ]
          },
          "execution_count": 171,
          "metadata": {},
          "output_type": "execute_result"
        }
      ],
      "source": [
        "a_loaded = np.load(\"my_array.npy\")\n",
        "a_loaded"
      ]
    },
    {
      "cell_type": "markdown",
      "metadata": {
        "id": "xEFM1S4Vvi7B"
      },
      "source": [
        "## Text format\n",
        "Let's try saving the array in text format:"
      ]
    },
    {
      "cell_type": "code",
      "execution_count": null,
      "metadata": {
        "id": "xF2L9_Ibvi7B"
      },
      "outputs": [],
      "source": [
        "np.savetxt(\"my_array.csv\", a)"
      ]
    },
    {
      "cell_type": "markdown",
      "metadata": {
        "id": "osbBOdDzvi7B"
      },
      "source": [
        "Now let's look at the file content:"
      ]
    },
    {
      "cell_type": "code",
      "execution_count": null,
      "metadata": {
        "id": "LeXp5LqCvi7B",
        "outputId": "3e961625-5f20-4894-b449-de20ec55e55c"
      },
      "outputs": [
        {
          "name": "stdout",
          "output_type": "stream",
          "text": [
            "6.134071612560282327e-01 6.785629015384503360e-01 7.091270528067838974e-02\n",
            "6.061149109941494917e-01 7.618964508960734960e-01 2.167530952395060329e-01\n",
            "\n"
          ]
        }
      ],
      "source": [
        "with open(\"my_array.csv\", \"rt\") as f:\n",
        "    print(f.read())"
      ]
    },
    {
      "cell_type": "markdown",
      "metadata": {
        "id": "XJuNdUIbvi7B"
      },
      "source": [
        "This is a CSV file with tabs as delimiters. You can set a different delimiter:"
      ]
    },
    {
      "cell_type": "code",
      "execution_count": null,
      "metadata": {
        "id": "5Xj2Rzonvi7B"
      },
      "outputs": [],
      "source": [
        "np.savetxt(\"my_array.csv\", a, delimiter=\",\")"
      ]
    },
    {
      "cell_type": "markdown",
      "metadata": {
        "id": "xHLq-iykvi7B"
      },
      "source": [
        "To load this file, just use `loadtxt`:"
      ]
    },
    {
      "cell_type": "code",
      "execution_count": null,
      "metadata": {
        "id": "4TRQzII4vi7B",
        "outputId": "70ade440-828f-4365-8251-1f1d8f1b0d40"
      },
      "outputs": [
        {
          "data": {
            "text/plain": [
              "array([[0.61340716, 0.6785629 , 0.07091271],\n",
              "       [0.60611491, 0.76189645, 0.2167531 ]])"
            ]
          },
          "execution_count": 175,
          "metadata": {},
          "output_type": "execute_result"
        }
      ],
      "source": [
        "a_loaded = np.loadtxt(\"my_array.csv\", delimiter=\",\")\n",
        "a_loaded"
      ]
    },
    {
      "cell_type": "markdown",
      "metadata": {
        "id": "fv_Xa6uMvi7C"
      },
      "source": [
        "## Zipped `.npz` format\n",
        "It is also possible to save multiple arrays in one zipped file:"
      ]
    },
    {
      "cell_type": "code",
      "execution_count": null,
      "metadata": {
        "id": "xr_MPslCvi7C",
        "outputId": "55911091-25e1-4262-ad26-618f512a6b2c"
      },
      "outputs": [
        {
          "data": {
            "text/plain": [
              "array([[[ 0,  1,  2,  3],\n",
              "        [ 4,  5,  6,  7],\n",
              "        [ 8,  9, 10, 11]],\n",
              "\n",
              "       [[12, 13, 14, 15],\n",
              "        [16, 17, 18, 19],\n",
              "        [20, 21, 22, 23]]], dtype=uint8)"
            ]
          },
          "execution_count": 176,
          "metadata": {},
          "output_type": "execute_result"
        }
      ],
      "source": [
        "b = np.arange(24, dtype=np.uint8).reshape(2, 3, 4)\n",
        "b"
      ]
    },
    {
      "cell_type": "code",
      "execution_count": null,
      "metadata": {
        "id": "5hiq8NpDvi7C"
      },
      "outputs": [],
      "source": [
        "np.savez(\"my_arrays\", my_a=a, my_b=b)"
      ]
    },
    {
      "cell_type": "markdown",
      "metadata": {
        "id": "zQGGzIAxvi7C"
      },
      "source": [
        "Again, let's take a peek at the file content. Note that the `.npz` file extension was automatically added."
      ]
    },
    {
      "cell_type": "code",
      "execution_count": null,
      "metadata": {
        "id": "55QEtQqLvi7C",
        "outputId": "0d7cdc10-7ef6-4aa1-ac29-beb29490a7b6"
      },
      "outputs": [
        {
          "data": {
            "text/plain": [
              "'b\"PK\\\\x03\\\\x04\\\\x14\\\\x00\\\\x00\\\\x00\\\\x00\\\\x00\\\\x00\\\\x00!\\\\x00\\\\xe5\\\\x92\\\\xa1\\\\xfc\\\\xb0\\\\x00\\\\x00\\\\x00\\\\xb0\\\\x00\\\\x00\\\\x00\\\\x08\\\\x00\\\\x14\\\\x00my_a.npy\\\\x01\\\\x00\\\\x10\\\\x00\\\\xb0\\\\x00\\\\x00\\\\x00\\\\x00\\\\x00\\\\x00\\\\x00\\\\xb0\\\\x00\\\\x0[...]'"
            ]
          },
          "execution_count": 178,
          "metadata": {},
          "output_type": "execute_result"
        }
      ],
      "source": [
        "with open(\"my_arrays.npz\", \"rb\") as f:\n",
        "    content = f.read()\n",
        "\n",
        "repr(content)[:180] + \"[...]\""
      ]
    },
    {
      "cell_type": "markdown",
      "metadata": {
        "id": "CfomNt88vi7C"
      },
      "source": [
        "You then load this file like so:"
      ]
    },
    {
      "cell_type": "code",
      "execution_count": null,
      "metadata": {
        "id": "77G5eWU_vi7C",
        "outputId": "a965b240-9ee1-41c4-99ac-6c45ef266d8a"
      },
      "outputs": [
        {
          "data": {
            "text/plain": [
              "<numpy.lib.npyio.NpzFile at 0x7fb3d823fa90>"
            ]
          },
          "execution_count": 179,
          "metadata": {},
          "output_type": "execute_result"
        }
      ],
      "source": [
        "my_arrays = np.load(\"my_arrays.npz\")\n",
        "my_arrays"
      ]
    },
    {
      "cell_type": "markdown",
      "metadata": {
        "id": "rkXLgbYavi7C"
      },
      "source": [
        "This is a dict-like object which loads the arrays lazily:"
      ]
    },
    {
      "cell_type": "code",
      "execution_count": null,
      "metadata": {
        "id": "p5jqZg73vi7D",
        "outputId": "44b639cc-f02e-4c3a-9575-d8e1bf59a719"
      },
      "outputs": [
        {
          "data": {
            "text/plain": [
              "KeysView(<numpy.lib.npyio.NpzFile object at 0x7fb3d823fa90>)"
            ]
          },
          "execution_count": 180,
          "metadata": {},
          "output_type": "execute_result"
        }
      ],
      "source": [
        "my_arrays.keys()"
      ]
    },
    {
      "cell_type": "code",
      "execution_count": null,
      "metadata": {
        "id": "DctnTInhvi7D",
        "outputId": "f1b9b926-1d97-4fb5-92f5-b3dca6c9efe7"
      },
      "outputs": [
        {
          "data": {
            "text/plain": [
              "array([[0.61340716, 0.6785629 , 0.07091271],\n",
              "       [0.60611491, 0.76189645, 0.2167531 ]])"
            ]
          },
          "execution_count": 181,
          "metadata": {},
          "output_type": "execute_result"
        }
      ],
      "source": [
        "my_arrays[\"my_a\"]"
      ]
    },
    {
      "cell_type": "markdown",
      "metadata": {
        "id": "jXl0QJthutJ3"
      },
      "source": [
        "# What's next?\n",
        "Now you know all the fundamentals of NumPy, but there are many more options available. The best way to learn more is to experiment with NumPy, and go through the excellent [reference documentation](https://numpy.org/doc/stable/reference/index.html) to find more functions and features you may be interested in."
      ]
    }
  ],
  "metadata": {
    "kernelspec": {
      "display_name": "Python 3",
      "language": "python",
      "name": "python3"
    },
    "language_info": {
      "codemirror_mode": {
        "name": "ipython",
        "version": 3
      },
      "file_extension": ".py",
      "mimetype": "text/x-python",
      "name": "python",
      "nbconvert_exporter": "python",
      "pygments_lexer": "ipython3",
      "version": "3.8.12"
    },
    "toc": {
      "toc_cell": false,
      "toc_number_sections": true,
      "toc_section_display": "block",
      "toc_threshold": 6,
      "toc_window_display": false
    },
    "toc_position": {
      "height": "677px",
      "left": "1195.02px",
      "right": "20px",
      "top": "78px",
      "width": "238px"
    },
    "colab": {
      "provenance": [],
      "toc_visible": true
    }
  },
  "nbformat": 4,
  "nbformat_minor": 0
}